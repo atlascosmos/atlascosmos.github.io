{
  "nbformat": 4,
  "nbformat_minor": 0,
  "metadata": {
    "colab": {
      "provenance": [],
      "include_colab_link": true
    },
    "kernelspec": {
      "name": "python3",
      "display_name": "Python 3"
    },
    "language_info": {
      "name": "python"
    }
  },
  "cells": [
    {
      "cell_type": "markdown",
      "metadata": {
        "id": "view-in-github",
        "colab_type": "text"
      },
      "source": [
        "<a href=\"https://colab.research.google.com/github/atlascosmos/atlascosmos.github.io/blob/main/Project_6.ipynb\" target=\"_parent\"><img src=\"https://colab.research.google.com/assets/colab-badge.svg\" alt=\"Open In Colab\"/></a>"
      ]
    },
    {
      "cell_type": "code",
      "source": [
        "%%shell\n",
        "jupyter nbconvert --to html \"/content/Project_6.ipynb\""
      ],
      "metadata": {
        "colab": {
          "base_uri": "https://localhost:8080/"
        },
        "id": "sI8zWy3dDgRE",
        "outputId": "f84f8afe-31ee-486f-acb5-49e0cb5dfd0e"
      },
      "execution_count": 4,
      "outputs": [
        {
          "output_type": "stream",
          "name": "stdout",
          "text": [
            "[NbConvertApp] Converting notebook /content/Project_6.ipynb to html\n",
            "[NbConvertApp] Writing 399637 bytes to /content/Project_6.html\n"
          ]
        },
        {
          "output_type": "execute_result",
          "data": {
            "text/plain": []
          },
          "metadata": {},
          "execution_count": 4
        }
      ]
    },
    {
      "cell_type": "markdown",
      "source": [
        "# Project 6: Advanced Text Analysis with SpaCy"
      ],
      "metadata": {
        "id": "71ARovxm-j7r"
      }
    },
    {
      "cell_type": "markdown",
      "source": [
        "### Overview\n",
        "\n",
        "In this project, we will enhance our text analysis techniques by applying proper data pre-processing to extract more meaningful information from literary texts. We'll continue working with the first two chapters of \"Pride and Prejudice\" but will implement advanced text cleaning methods using the SpaCy library to obtain more insightful word frequency results."
      ],
      "metadata": {
        "id": "kq4t7AAD-sVH"
      }
    },
    {
      "cell_type": "markdown",
      "source": [
        "### Project Objectives\n",
        "\n",
        "*   Apply proper text pre-processing techniques to extract\n",
        "meaningful words\n",
        "\n",
        "*   Use SpaCy to clean and normalize text data\n",
        "*   Identify the 15 most frequently used meaningful words in a text\n",
        "\n",
        "*   Analyze how pre-processing affects text analysis results\n",
        "*   Apply the same techniques to a text of your choice"
      ],
      "metadata": {
        "id": "uInNz30c_P10"
      }
    },
    {
      "cell_type": "markdown",
      "source": [
        "### Part 0: Text analysis without text cleaning (Lab6)"
      ],
      "metadata": {
        "id": "YByYWFNGA6R8"
      }
    },
    {
      "cell_type": "markdown",
      "source": [
        "#### Loading Data\n",
        "\n",
        "We will fetch the first two chapters of Jane Austen's Pride and Prejudice from [Project Gutenberg](https://www.gutenberg.org/ebooks/1342)\n"
      ],
      "metadata": {
        "id": "00xGx_fWBbsV"
      }
    },
    {
      "cell_type": "markdown",
      "source": [
        "#### Function to fetch data"
      ],
      "metadata": {
        "id": "h7dTIqbtBitY"
      }
    },
    {
      "cell_type": "code",
      "source": [
        "def fetch_text(raw_url):\n",
        "  import requests\n",
        "  from pathlib import Path\n",
        "  import hashlib\n",
        "\n",
        "  CACHE_DIR = Path(\"cs_110_content/text_cache\")\n",
        "  CACHE_DIR.mkdir(parents=True, exist_ok=True)\n",
        "\n",
        "  def _url_to_filename(url):\n",
        "    url_hash = hashlib.sha1(url.encode(\"utf-8\")).hexdigest()[:12]\n",
        "    return CACHE_DIR / f\"{url_hash}.txt\"\n",
        "\n",
        "  cache_path = _url_to_filename(raw_url)\n",
        "\n",
        "  SUCCESS_MSG = \"✅ Text fetched.\"\n",
        "  FAILURE_MSG = \"❌ Failed to fetch text.\"\n",
        "  try:\n",
        "    if not cache_path.exists():\n",
        "      response = requests.get(raw_url, timeout=10)\n",
        "      response.raise_for_status()\n",
        "      text_data = response.text\n",
        "      cache_path.write_text(text_data, encoding=\"utf-8\")\n",
        "    print(SUCCESS_MSG)\n",
        "    return cache_path.read_text(encoding=\"utf-8\")\n",
        "\n",
        "  except Exception as e:\n",
        "    print(FAILURE_MSG)\n",
        "    print(f\"Error: {e}\")\n",
        "    return \"\""
      ],
      "metadata": {
        "id": "0L17P8jkBNiC"
      },
      "execution_count": null,
      "outputs": []
    },
    {
      "cell_type": "markdown",
      "source": [
        "#### Save the text in a variable"
      ],
      "metadata": {
        "id": "5x9_r0oYBt3F"
      }
    },
    {
      "cell_type": "code",
      "source": [
        "PRIDE_PREJUDICE_URL = \"https://gist.githubusercontent.com/goodbadwolf/8514e63776c1e9717d844ea4ee407739/raw/fdc87a64fd18e6ddb01ce8d758f8f2de8d03e163/pride_prejudice_excerpt.txt\"\n",
        "\n",
        "pride_prejudice_text = fetch_text(PRIDE_PREJUDICE_URL)"
      ],
      "metadata": {
        "id": "RrLOILFuBvlf"
      },
      "execution_count": null,
      "outputs": []
    },
    {
      "cell_type": "markdown",
      "source": [
        "#### Statistics about the data"
      ],
      "metadata": {
        "id": "pawWn6D7B4kq"
      }
    },
    {
      "cell_type": "code",
      "source": [
        "def print_text_stats(text):\n",
        "  num_chars = len(text)\n",
        "\n",
        "  lines = text.splitlines()\n",
        "  num_lines = len(lines)\n",
        "\n",
        "  num_words = 0\n",
        "  for line in lines:\n",
        "    words_in_line = line.split()\n",
        "    num_words_in_line = len(words_in_line)\n",
        "    num_words += num_words_in_line\n",
        "\n",
        "  print(f\"Number of characters: {num_chars}\")\n",
        "  print(f\"Number of lines: {num_lines}\")\n",
        "  print(f\"Number of words: {num_words}\")\n",
        "\n",
        "print_text_stats(pride_prejudice_text)"
      ],
      "metadata": {
        "id": "T-XiJEYEB59G"
      },
      "execution_count": null,
      "outputs": []
    },
    {
      "cell_type": "code",
      "source": [
        "def get_word_counts(text):\n",
        "  word_counts = {}\n",
        "  lines = text.splitlines()\n",
        "  for line in lines:\n",
        "    words = line.split()\n",
        "    for word in words:\n",
        "      word = word.lower()\n",
        "      if word in word_counts:\n",
        "        word_counts[word] += 1\n",
        "      else:\n",
        "        word_counts[word] = 1\n",
        "  return word_counts\n",
        "\n",
        "word_counts = get_word_counts(pride_prejudice_text)\n",
        "print(word_counts)"
      ],
      "metadata": {
        "id": "HRZlreZ3CA-v"
      },
      "execution_count": null,
      "outputs": []
    },
    {
      "cell_type": "code",
      "source": [
        "# prompt: Make a new Code Cell below and use Gemini to create a new function called print_top_10_frequent_words that will call the above get_word_counts() and print only the top 10 frequent words.\n",
        "\n",
        "import operator\n",
        "\n",
        "def print_top_10_frequent_words(text):\n",
        "    word_counts = get_word_counts(text)\n",
        "    sorted_word_counts = dict(sorted(word_counts.items(), key=operator.itemgetter(1), reverse=True))\n",
        "    top_10_words = list(sorted_word_counts.items())[:10]  # Get the top 10 words and counts\n",
        "    for word, count in top_10_words:\n",
        "        print(f\"{word}: {count}\")\n",
        "\n",
        "print_top_10_frequent_words(pride_prejudice_text)"
      ],
      "metadata": {
        "id": "xNBW3wfDCJL6"
      },
      "execution_count": null,
      "outputs": []
    },
    {
      "cell_type": "markdown",
      "source": [
        "### Part 1: Analyzing \"Pride and Prejudice\" with Pre-processing\n",
        "\n",
        "In our previous lab, we simply counted word frequencies without any sophisticated pre-processing, resulting in common but uninformative words (like \"the\", \"and\", \"to\") dominating our results.\n",
        "\n",
        "You will use SpaCy, a powerful Natural Language Processing library, to perform these operations. SpaCy provides pre-trained models that can handle tokenization, stop word removal, and lemmatization automatically.\n",
        "\n",
        "\n",
        "\n"
      ],
      "metadata": {
        "id": "4m25r2ki_rue"
      }
    },
    {
      "cell_type": "code",
      "source": [
        "# install spacy library\n",
        "#!pip install spacy (uncomment it to install)"
      ],
      "metadata": {
        "id": "w1c8D8MMAr4a"
      },
      "execution_count": null,
      "outputs": []
    },
    {
      "cell_type": "code",
      "source": [
        "# bring the spacy library into scope\n",
        "import spacy"
      ],
      "metadata": {
        "id": "z9G4ZsLHCSuZ"
      },
      "execution_count": null,
      "outputs": []
    },
    {
      "cell_type": "code",
      "source": [
        "# Load a SpaCy model\n",
        "nlp = spacy.load('en_core_web_sm')"
      ],
      "metadata": {
        "id": "dlcSePdTCaC0"
      },
      "execution_count": null,
      "outputs": []
    },
    {
      "cell_type": "markdown",
      "source": [
        "Explanation:\n",
        "\n",
        "spacy: This is the spaCy library, a popular and efficient NLP library in Python.\n",
        "\n",
        "load(): This function loads a pre-trained NLP model.\n",
        "\n",
        "'en_core_web_sm': This is the name of the small English-language model. It's a lightweight model that includes:\n",
        "\n",
        "*   Tokenization (splitting text into words, punctuation, etc.)\n",
        "\n",
        "*  Part-of-speech (POS) tagging\n",
        "\n",
        "*  Named entity recognition (NER) etc\n",
        "\n",
        "nlp: This variable now holds the loaded model."
      ],
      "metadata": {
        "id": "8g8JESpNCvpz"
      }
    },
    {
      "cell_type": "code",
      "source": [
        "def word_tokenization_normalization(text):\n",
        "\n",
        "    text = text.lower() # lowercase\n",
        "    doc = nlp(text)     # loading text into model\n",
        "\n",
        "    words_normalized = []\n",
        "    for word in doc:\n",
        "        if word.text != '\\n' \\\n",
        "        and not word.is_stop \\\n",
        "        and not word.is_punct \\\n",
        "        and not word.like_num \\\n",
        "        and len(word.text.strip()) > 2:\n",
        "            word_lemmatized = str(word.lemma_)\n",
        "            words_normalized.append(word_lemmatized)\n",
        "\n",
        "    return words_normalized"
      ],
      "metadata": {
        "id": "XBevKRZyDAbB"
      },
      "execution_count": null,
      "outputs": []
    },
    {
      "cell_type": "markdown",
      "source": [
        "#### TODO\n",
        "\n",
        "1. Use \"Explain Code\" AI feature to understand what this function, *word_tokenization_normalization(text)* does and write a short summary of about what it does. You may use bullet points. (Please create another text cell under this cell to write the summary.)"
      ],
      "metadata": {
        "id": "z6mwuG3wJFQ2"
      }
    },
    {
      "cell_type": "markdown",
      "source": [
        "I highlighted def word_tokenization_normalization(text) which is the Python keyword used to define a new function. The definition lets the user clearly understand that I am tokenizing and normalizing the text input. The function will accept 1 input, which will be expected to be in text format, and the parameter assigned to this task is called text. The line sets up a resuable block of code that will operate on some text data and when I invoke the function in the program."
      ],
      "metadata": {
        "id": "9aFZp_4yPCxR"
      }
    },
    {
      "cell_type": "markdown",
      "source": [
        "#### TODO\n",
        "\n",
        "2. Use this function to get meaningful words from pride_prejudice_text. All you need to do is call the function with the correct input text. (Please create a code cell under this cell to accomplish it.)"
      ],
      "metadata": {
        "id": "jQ9Dqd9cLr1U"
      }
    },
    {
      "cell_type": "code",
      "source": [
        "import spacy\n",
        "import operator\n",
        "\n",
        "# Load the SpaCy English language model\n",
        "nlp = spacy.load(\"en_core_web_sm\")\n",
        "\n",
        "# Function to preprocess and lemmatize text\n",
        "def preprocess_text(text):\n",
        "    text = text.lower()\n",
        "    doc = nlp(text)\n",
        "\n",
        "    words = [\n",
        "        token.lemma_  # Get the word's base form (lemma)\n",
        "        for token in doc\n",
        "        if not token.is_stop  # Exclude stop words\n",
        "        and not token.is_punct  # Exclude punctuation\n",
        "        and not token.like_num  # Exclude numbers\n",
        "        and len(token) > 2  # Exclude short words\n",
        "    ]\n",
        "    return words\n",
        "\n",
        "\n",
        "# Function to count word frequencies\n",
        "def count_word_frequencies(words):\n",
        "    word_frequencies = {}\n",
        "    for word in words:\n",
        "        word_frequencies[word] = word_frequencies.get(word, 0) + 1\n",
        "    return word_frequencies\n",
        "\n",
        "# Function to get the top N frequent words\n",
        "def get_top_words(word_frequencies, num_words=15):  # Default is 15\n",
        "    sorted_frequencies = sorted(\n",
        "        word_frequencies.items(), key=operator.itemgetter(1), reverse=True\n",
        "    )\n",
        "    return sorted_frequencies[:num_words]\n",
        "\n",
        "# Assuming you have the 'pride_prejudice_text' variable containing the text\n",
        "pride_prejudice_words = preprocess_text(pride_prejudice_text)\n",
        "pride_prejudice_word_frequencies = count_word_frequencies(pride_prejudice_words)\n",
        "top_words = get_top_words(pride_prejudice_word_frequencies)\n",
        "\n",
        "# Print the top words\n",
        "print(\"Top Meaningful Words in Pride and Prejudice:\")\n",
        "for word, frequency in top_words:\n",
        "    print(f\"{word}: {frequency}\")"
      ],
      "metadata": {
        "id": "swXAOJYZQPo3"
      },
      "execution_count": null,
      "outputs": []
    },
    {
      "cell_type": "markdown",
      "source": [
        "#### TODO\n",
        "\n",
        "3. Make a new Code Cell below and use Gemini to create a new function called *create_word_frequency_dict* from the result you got from the previous task. This function should return a word frequency dictionary, meaning this is a fruitful function."
      ],
      "metadata": {
        "id": "cp30KTwXLNK6"
      }
    },
    {
      "cell_type": "code",
      "source": [
        "import spacy\n",
        "import operator\n",
        "\n",
        "# Load the SpaCy English language model\n",
        "nlp = spacy.load(\"en_core_web_sm\")\n",
        "\n",
        "# Function to preprocess and lemmatize text (same as before)\n",
        "def preprocess_text(text):\n",
        "    text = text.lower()\n",
        "    doc = nlp(text)\n",
        "    words = [\n",
        "        token.lemma_\n",
        "        for token in doc\n",
        "        if not token.is_stop\n",
        "        and not token.is_punct\n",
        "        and not token.like_num\n",
        "        and len(token) > 2\n",
        "    ]\n",
        "    return words\n",
        "\n",
        "# New function to create the word frequency dictionary\n",
        "def create_word_frequency_dict(text):\n",
        "\n",
        "    words = preprocess_text(text)  # Preprocess the text\n",
        "    word_frequencies = {}\n",
        "    for word in words:\n",
        "        word_frequencies[word] = word_frequencies.get(word, 0) + 1\n",
        "    return word_frequencies  # Return the word frequency dictionary\n",
        "\n",
        "# Example usage (assuming 'pride_prejudice_text' is loaded):\n",
        "pride_prejudice_word_frequencies = create_word_frequency_dict(pride_prejudice_text)\n",
        "print(pride_prejudice_word_frequencies)"
      ],
      "metadata": {
        "id": "uWFP3RLYS61T"
      },
      "execution_count": null,
      "outputs": []
    },
    {
      "cell_type": "markdown",
      "source": [
        "#### TODO\n",
        "\n",
        "4. Make a new Code Cell below and use Gemini to create a new function called *print_top_words* to print out the result as shown below (This is just a print function):\n",
        "\n",
        "![Screenshot 2025-05-09 at 9.17.48 AM.png](data:image/png;base64,iVBORw0KGgoAAAANSUhEUgAAA54AAAFXCAYAAADK95GyAAAKs2lDQ1BJQ0MgUHJvZmlsZQAASImVlwdUk9kSgO//p4eEFnoNvQnSCSAl9FCkV1EJSYBQQgwEARsiiyuwooiIgLKiS1VwLYAsKiCKhUWx9wVZFNR1sSAqKO8HDmF333nvnTc5k/nO/HPnzr3nn5wJAGQqk89PhiUBSOGlC4I8XagRkVFU3DhAAzWAA1JAnMlK49MDAnwBIov27/LxLoDm7C3juVz//vy/ihSbk8YCAApAOJadxkpB+BSiMyy+IB0A1HHEr7U+nT/HtxGWESAFIjw2x/ELPDPHsfOMlpyPCQlyRVgbADyJyRTEA0AyRfzUDFY8koc0t5cpj83lIZyDsGNKSiob4S6E9ZEYPsJz+Wmxf8kT/7ecsaKcTGa8iBfOMi94N24aP5mZ9X9ex/+WlGTh4h56iJISBF5BiFVA7uz3pFQfEfNiV/ovMpc9Hz/PCUKv0EVmpblGLXJacjBjkdlMNx9RnuSVvoscx/UQxXDTGSGLzElzD15kQWqQaN84gSt9kZmCpRqESaEifwKHIcqfnRASvsgZ3LCVotqSgn2WYlxFfoEwSHQWDs/TZWlfD9E9pKT95exchmhtekKIl+gemEv1c3j0pZxpEaLa2Bw396WYUFE8P91FtBc/OUAUz0n2FPnTMoJFa9ORl3NpbYDoDhOZ3gGLDNyAO/BFPlQQACyAJTBHNBy4p3My0+cO45rKzxJw4xPSqXSk4zhUBo9lsoxqbmpuBcBc/y68Hu/vz/clJIdf8qXAAFjM9dSqJR8nF4DOt0gr7l3yaQcCILEWgO4VLKEgY8GHnvvCACKQADJAEfl90AL6wBipzRrYA2ekYm/gD0JAJFgDWCABpAABWA82gq0gHxSCXWAvqADV4DCoB8fACdAGOkE3uASugRvgDngEhsAoeAUmwEcwDUEQDiJDFEgRUod0ICPIHKJBjpA75AsFQZFQDBQP8SAhtBHaBhVCJVAFdAhqgH6GzkDd0BVoEHoADUPj0DvoC4yCSbAMrArrwsthGkyHfeAQeDUcD6+Ds+E8eCdcDtfAR+FWuBu+Bt+Bh+BX8CQKoMRQcigNlDGKhnJF+aOiUHEoAWozqgBVhqpBNaM6UH2oW6gh1GvUZzQWTUFT0cZoe7QXOhTNQq9Db0YXoSvQ9ehWdC/6FnoYPYH+hiFjVDBGGDsMAxOBicesx+RjyjC1mNOYi5g7mFHMRywWK4fVw9pgvbCR2ETsBmwR9gC2BduFHcSOYCdxOJwizgjngPPHMXHpuHzcftxR3HncTdwo7hNeDK+ON8d74KPwPHwuvgzfiD+Hv4l/gZ8mSBJ0CHYEfwKbkEUoJhwhdBCuE0YJ00Qpoh7RgRhCTCRuJZYTm4kXiY+J78XExDTFbMUCxbhiOWLlYsfFLosNi30mSZMMSa6kaJKQtJNUR+oiPSC9J5PJumRnchQ5nbyT3EC+QH5K/iROETcRZ4izxbeIV4q3it8UfyNBkNCRoEuskciWKJM4KXFd4rUkQVJX0lWSKblZslLyjOQ9yUkpipSZlL9UilSRVKPUFakxaZy0rrS7NFs6T/qw9AXpEQqKokVxpbAo2yhHKBcpozJYGT0ZhkyiTKHMMZkBmQlZaVlL2TDZTNlK2bOyQ3IoOV05hlyyXLHcCbm7cl/kVeXp8hz5HfLN8jflpxSUFZwVOAoFCi0KdxS+KFIV3RWTFHcrtik+UUIrGSoFKq1XOqh0Uem1soyyvTJLuUD5hPJDFVjFUCVIZYPKYZV+lUlVNVVPVb7qftULqq/V5NSc1RLVStXOqY2rU9Qd1bnqpern1V9SZal0ajK1nNpLndBQ0fDSEGoc0hjQmNbU0wzVzNVs0XyiRdSiacVplWr1aE1oq2v7aW/UbtJ+qEPQoekk6OzT6dOZ0tXTDdfdrtumO6anoMfQy9Zr0nusT9Z30l+nX6N/2wBrQDNIMjhgcMMQNrQyTDCsNLxuBBtZG3GNDhgNLsMss13GW1az7J4xyZhunGHcZDxsImfia5Jr0mbyZrn28qjlu5f3Lf9mamWabHrE9JGZtJm3Wa5Zh9k7c0Nzlnml+W0LsoWHxRaLdou3lkaWHMuDlvetKFZ+Vtuteqy+WttYC6ybrcdttG1ibKps7tFkaAG0ItplW4yti+0W207bz3bWdul2J+z+tDe2T7JvtB9bobeCs+LIihEHTQemwyGHIUeqY4zjj45DThpOTKcap2fOWs5s51rnF3QDeiL9KP2Ni6mLwOW0y5Srnesm1y43lJunW4HbgLu0e6h7hftTD02PeI8mjwlPK88Nnl1eGC8fr91e9xiqDBajgTHhbeO9ybvXh+QT7FPh88zX0Ffg2+EH+3n77fF7vFJnJW9lmz/wZ/jv8X8SoBewLuCXQGxgQGBl4PMgs6CNQX3BlOC1wY3BH0NcQopDHoXqhwpDe8IkwqLDGsKmwt3CS8KHIpZHbIq4FqkUyY1sj8JFhUXVRk2ucl+1d9VotFV0fvTd1XqrM1dfWaO0JnnN2bUSa5lrT8ZgYsJjGmNmmP7MGuZkLCO2KnaC5crax3rFdmaXssc5DpwSzos4h7iSuLF4h/g98eMJTgllCa+5rtwK7ttEr8TqxKkk/6S6pNnk8OSWFHxKTMoZnjQvidebqpaamTrIN+Ln84fW2a3bu25C4COoTYPSVqe1p8sgg1K/UF/4nXA4wzGjMuPT+rD1JzOlMnmZ/VmGWTuyXmR7ZP+0Ab2BtaFno8bGrRuHN9E3HdoMbY7d3LNFa0veltEcz5z6rcStSVt/zTXNLcn9sC18W0eeal5O3sh3nt815YvnC/LvbbffXv09+nvu9wM7LHbs3/GtgF1wtdC0sKxwpohVdPUHsx/Kf5jdGbdzoNi6+OAu7C7erru7nXbXl0iVZJeM7PHb01pKLS0o/bB37d4rZZZl1fuI+4T7hsp9y9v3a+/ftX+mIqHiTqVLZUuVStWOqqkD7AM3DzofbK5WrS6s/vIj98f7hzwPtdbo1pQdxh7OOPz8SNiRvp9oPzXUKtUW1n6t49UN1QfV9zbYNDQ0qjQWN8FNwqbxo9FHbxxzO9bebNx8qEWupfA4OC48/vLnmJ/vnvA50XOSdrL5lM6pqtOU0wWtUGtW60RbQttQe2T74BnvMz0d9h2nfzH5pa5To7PyrOzZ4nPEc3nnZs9nn5/s4ne97o7vHulZ2/PoQsSF272BvQMXfS5evuRx6UIfve/8ZYfLnVfsrpy5Srvads36Wmu/Vf/pX61+PT1gPdB63eZ6+w3bGx2DKwbP3XS62X3L7dal24zb1+6svDN4N/Tu/XvR94bus++PPUh+8PZhxsPpRzmPMY8Lnkg+KXuq8rTmN4PfWoash84Ouw33Pwt+9miENfLq97TfZ0bznpOfl71Qf9EwZj7WOe4xfuPlqpejr/ivpl/n/yH1R9Ub/Ten/nT+s38iYmL0reDt7Lui94rv6z5YfuiZDJh8+jHl4/RUwSfFT/WfaZ/7voR/eTG9fgY3U/7V4GvHN59vj2dTZmf5TAFzfhRAIQrHxQHwrg4AciQAlBsAEFctzNfzAi38J5gn8J94YQafF2sAjuYAEOQMgD9iqxGXDqLiXQAEIL4QZwBbWIh0cRaen9vnRPIoADUGpm6+vs+OP84B/5CFmf4vdf/TAlHWv9l/AX5cCqoZwiImAAAAVmVYSWZNTQAqAAAACAABh2kABAAAAAEAAAAaAAAAAAADkoYABwAAABIAAABEoAIABAAAAAEAAAOeoAMABAAAAAEAAAFXAAAAAEFTQ0lJAAAAU2NyZWVuc2hvdLVsPEsAAAHWaVRYdFhNTDpjb20uYWRvYmUueG1wAAAAAAA8eDp4bXBtZXRhIHhtbG5zOng9ImFkb2JlOm5zOm1ldGEvIiB4OnhtcHRrPSJYTVAgQ29yZSA2LjAuMCI+CiAgIDxyZGY6UkRGIHhtbG5zOnJkZj0iaHR0cDovL3d3dy53My5vcmcvMTk5OS8wMi8yMi1yZGYtc3ludGF4LW5zIyI+CiAgICAgIDxyZGY6RGVzY3JpcHRpb24gcmRmOmFib3V0PSIiCiAgICAgICAgICAgIHhtbG5zOmV4aWY9Imh0dHA6Ly9ucy5hZG9iZS5jb20vZXhpZi8xLjAvIj4KICAgICAgICAgPGV4aWY6UGl4ZWxZRGltZW5zaW9uPjM0MzwvZXhpZjpQaXhlbFlEaW1lbnNpb24+CiAgICAgICAgIDxleGlmOlBpeGVsWERpbWVuc2lvbj45MjY8L2V4aWY6UGl4ZWxYRGltZW5zaW9uPgogICAgICAgICA8ZXhpZjpVc2VyQ29tbWVudD5TY3JlZW5zaG90PC9leGlmOlVzZXJDb21tZW50PgogICAgICA8L3JkZjpEZXNjcmlwdGlvbj4KICAgPC9yZGY6UkRGPgo8L3g6eG1wbWV0YT4KBiB5BQAAQABJREFUeAHs3XncTtX+//HPbR4yZCZjUjqSpIM0kg4OjcYkKTQc/EpCRYaKIh2VOZISMmQWyZSQpCSUUsaMRYN5/nmv097f67oH7mHf82s9Hpe999prr7328+6fT2uKOHsuGQkBBBBAAAEEEEAAAQQQQACBRBLIkEj1Ui0CCCCAAAIIIIAAAggggAACToDAk/8QEEAAAQQQQAABBBBAAAEEElWAwDNReakcAQQQQAABBBBAAAEEEECAwJP/BhBAAAEEEEAAAQQQQAABBBJVgMAzUXmpHAEEEEAAAQQQQAABBBBAgMCT/wYQQAABBBBAAAEEEEAAAQQSVYDAM1F5qRwBBBBAAAEEEEAAAQQQQIDAk/8GEEAAAQQQQAABBBBAAAEEElWAwDNReakcAQQQQAABBBBAAAEEEECAwJP/BhBAAAEEEEAAAQQQQAABBBJVgMAzUXmpHAEEEEAAAQQQQAABBBBAIJDAc/369TZ8+HDbtm0boggggAACCCCAAAIIIIAAAgiECQQSeK5Zs8ZeeeUV+/nnn8MqTwsXixYtsrfeesuOHj2a5J+jQL579+5WpUoV9zt27FiUNrz66qtWunTpaH9//fVXlPJkIIAAAggggAACCCCAAAJJLZApqV+Y2t43Y8YM069hw4aWPXv2JGn+yZMnrWvXrjZ16tSw9505cybsWhcnTpxweTfddJPlyZMn7H6mTPx5w0C4QAABBBBAAAEEEEAAgWQRIDJJFvbzv/TIkSMu6KxcubJ16NDBevXqZdu3b7eIiIgYH1TP6BVXXBHjfW4ggAACCCCAAAIIIIAAAsklEMhQW6/x+/bts3bt2lmFChXs5ptvtv79+9upU6e82/5x7dq11qZNGzd8VGVbtWplGzdu9O/rZOHChdasWTNbtmyZC7yuv/56V+9TTz1lBw8eDCvbtm1b10O4fPlya968uRt2evvtt7s6wgr+fTFt2jRr0qSJK6d61bv4+++/+0U3b97s3q33L1iwwOWrvbrWb8iQIX5Z72Tnzp3u3Xr/4MGDvex4HXPkyGETJ040tbNWrVqWMWPGeNXDQwgggAACCCCAAAIIIIBAShAItMfzmWeesZIlS1qjRo1sxYoVNnToUFMwOmDAAP9b586da48//ri7rl69umn46JIlS9xP96688kp3b+/evbZy5Upbt26dHT582GrXru2CQA0/1ZDSnj17+nXqXSqjYK1cuXJWqVIlU3DbunVr++KLL6xw4cJ+2RdffNHefvttd12/fn1Xv577/PPPbd68eaagL3PmzO47VEjzLFX3JZdc4u4pL1++fDqEJfVSqh1KBQsWDLsX1wu9v1q1alEeO3v2bJQ8L+Pdd991AWqxYsVcQF+1alXvFkcEEEAAAQQQQAABBBBAIFkFAg08ixYtarNmzXKBoRbjufPOO23KlCn2n//8xy699FIXwGlIqNKcOXNcD6bOFbCpp1BB4fjx45Xlp2zZsrmgVMGcglgFVJMmTQoLPL3C6rl89NFHLUOGDK6XdMyYMabFge677z5X5Ntvv3VBZ5kyZezDDz90AaQC30GDBtnAgQPtnXfecT22JUqUcL21euiJJ55wczx79+5t+fPn916V4o6R3RT8q8dZFiQEEEAAAQQQQAABBBBAIDkFAo1KmjZt6i9wo4V47r//fvdtq1atckf1Pu7fv980d/H06dOuV1I9kzlz5jQFrQpAI6/cWrduXb8HsVChQla+fHkXwB4/fjyK29133+0HWjfccIO7r55TL6lHVemWW26xX375xb1fParqIVX69NNP3TE+/ygo7dSpk/vVq1cvPlXE6xkF4qNHj7bVq1fbJ5984t4vTwX86sklIYAAAggggAACCCCAAALJLRBoj2fpc9t6hCYNu1XavXu3O27dutUdtf2KekOjS3v27HFzL717kYecli1b1s0HVY9q1qxZvWIucFXw6iX1WippmKyXNm3a5E7VE6pf5JSQ7WA0/FYLASV10lxWLxUoUMANNdZwYfUeq1fX6+31ynBEAAEEEEAAAQQQQAABBJJaINDAU3MTQ5M3zNPb8sPrpezYsaPVqVMntKh/rrmUoSm2W5hcdNFFoY9Fe+69f9SoUVa8ePEoZSK3P0qBVJLRoEEDF3h+//33qaTFNBMBBBBAAAEEEEAAAQTSskCggafXs+mB/fbbb+7UCyZLlSrlrhXgachsUifNM/3ss88sb968cX5/dKvzhrZfiwt5Q4q1mJG3SFJomaQ69/4Omh9LQgABBBBAAAEEEEAAAQSSWyDQOZ5aWEiL9Xhp5syZ7lRbpihpbqfS2LFjo8zlVH7ofExdB520iq6S3h85KbA8cOBA5GzT8FWl9evXR7kXmqHtVLQtjH7Dhw8PvZVo59G1WSvfTp482b3T+95EawAVI4AAAggggAACCCCAAAKxEAi0x1MLBWmeo4bRak/NpUuX2nXXXecHnJqDqWG2WkFWC/Bo/031PmqhHwWpWjxIC+UkVtJCRVqMZ8aMGW7up7ZTyZQpk/34449uNd3HHnvMtSn0/V6w3KVLF7dNjHpvtSruTTfdFFos8PP58+f7+5Bu2bLF1a8VgdVbXLFiRWvRooX9+uuvpn1I9R0K7g8dOuT2/vR6PLUiLwkBBBBAAAEEEEAAAQQQSG6BQALPiIgI9x3t2rWzMecW7dFWKUoKOiP3/ikwVS9i37597bnnnnPl9I9WhW3cuLF/7dXpHf0bf59Ezs+YMWPkIu46NF/PaMuUV1991bVzwYIF/jNXXXWVv72Ln3nuRAFyt27dXC/piBEj3K177703SuAZuT2hdcTn/LvvvouyKq32MFXSgkkKPLW4khZwkrdnrvsaxvzyyy/b5ZdfrksSAggggAACCCCAAAIIIJCsAhHnhmaeDbIF2iZFPXS5c+d2PZgx1a3XagVbDW9V0Kl5kUEHbzG9W/kaprp9+3bTwkd698UXX3y+4in6nno+tcepknpk1YtMQgABBBBAAAEEEEAAAQRSikDggWdK+TDagQACCCCAAAIIIIAAAgggkDIEAl1cKGV8Eq1AAAEEEEAAAQQQQAABBBBISQIEninpr0FbEEAAAQQQQAABBBBAAIE0KEDgmQb/qHwSAggggAACCCCAAAIIIJCSBAg8U9Jfg7YggAACCCCAAAIIIIAAAmlQgMAzDf5R+SQEEEAAAQQQQAABBBBAICUJEHimpL8GbUEAAQQQQAABBBBAAAEE0qBAIIHn8ePHbfjw4TZnzpw0SMQnIYAAAggggAACCCCAAAIIJEQgkMDz6NGj9sorr9jkyZMT0pZU/ey2bduse/fuVqVKFfc7duzYBb+nW7duVrp0abvrrrsuWJYCCCCAAAIIIIAAAggggEBqFciUWhueUtp98uRJ69q1q02dOjWsSWfOnAm7jnzx+eef27hx41z2kSNHIt/mGgEEEEAAAQQQQAABBBBIMwKB9HimGY14fIiCRgWdlStXttGjR1vJkiVdLRERETHWpt5QBavXXXddjGW4gQACCCCAAAIIIIAAAgikFYFECzzV49e/f39r1qyZTZw40fdq27atC7qWL19uzZs3d0NNb7/9dlu4cKFfxjs5cOCAdenSxW6++WZXrlGjRjZt2jTvthvaq/o3bdrk50U+GThwoGvD4cOH/Vs7d+5079b7Bw8e7OfH5yRHjhzu+9SuWrVqWcaMGS9YzdChQ2379u3Wq1evC5alAAIIIIAAAggggAACCCCQ2gUSZajt6dOn7bnnnnMBWdOmTa1hw4a+04oVK0xBoILRcuXKWaVKlWzt2rXWunVr++KLL6xw4cKurMrUr1/fdu/ebTfddJP7zZs3zzp27Gi//fabKYDNnTu3rVy50lavXu3q8l8ScjJp0iR3lTNnTj9XvZRqh1LBggX9/PicZM6c2apVqxbl0bNnz0bJU8bGjRvtzTffdN/h9Y5GW5BMBBBAAAEEEEAAAQQQQCCNCATe43nq1Cl7+umnXWD54IMP2ssvv2yZMkWNbzXU9OOPP7YZM2ZYq1atHOeiRYt81gkTJrigU3WMHTvW+vTpY7NnzzYFkK+//rodPHjQrrnmGlf+m2++8Z8LPdm3b5+r44YbbgjNTrZzBeTPPvusFS1a1B555JFkawcvRgABBBBAAAEEEEAAAQSSUiDQwFNzFzt06OCGwz766KNuKGmGDNG/4u677zbvnhcY7t271//2ZcuWufOHHnrIz1PApufUG7phwwbXO6q8VatWuTI7duxwQ3IV+CqtX7/eHatWreqO3j/58+e3Tp06uV+9evW87EQ/jh8/3tasWWMvvviiZc+ePdHfxwsQQAABBBBAAAEEEEAAgZQgELUrMgGt0rBXL+XNm9diWmBHwaJ+XipRooQ7DZ2HuXnzZpdXvHhxr5g7XnbZZe6oeZpKGoar4bR//vmnP3x27ty51q9fP/v2229dGS38E5ry5cvnAuTQvMQ+15Dh559/3s0DrV27dmK/jvoRQAABBBBAAAEEEEAAgRQjEH13ZAKa17lzZxdUKvBT71506aKLLoouOyxP25QoRV6sxxu2e+LECXf/n//8pzuqd3Pp0qVWvXp11yP63Xff2VdffeWG5pYtW9aVSc5/FAwr/fXXX25xJQ01ViCqtGvXLpenocckBBBAAAEEEEAAAQQQQCCtCQTa46nex3bt2pmCwSZNmth//vMfN49TiwDFNZUqVcrNz9y/f78VKFDAf1xBmlKxYsXc0evN1AJDS5YssQEDBtgff/zhzj/77DPTirnekF73wLl/tLiQNzxXixldeeWV3q1EO3oBs9qpX2jyFltS726dOnVCb3GOAAIIIIAAAggggAACCKR6gUB7PL3eSc2pfOKJJ1zgqNVt45MqVqzoHpszZ47/uHo5p0+f7q4vv/xyd7z00ktdr6a2TVEAV6NGDatbt6699tpr7n50K85qmK4WNNJv+PDhfv2JedKyZUvbunVr2M8bCqzVfXVP82NJCCCAAAIIIIAAAggggEBaEwi0xzMUR0GUhr5qJVr1hGpblbikhx9+2EaOHGk9e/a0Q4cOuR7OyZMnu2BWdXlzRNWbeeONN7qeVQW8efLksVtuucWtfKv3ValSJS6vjVfZ+fPn+/uQbtmyxdXRvXt301YrCqBbtGgRr3p5CAEEEEAAAQQQQAABBBBICwKBBJ7eIkKhQ1o1tFTbnigI1HxG9TyWLl3amXk9o5EBQ/MVWE6ZMsX1Ar766qt+UQWdvXr18q91ooBT8yO9RXsU7GnbFfWA/uMf/wgrqwuvvVFuxDND80m1L2lomjp1qrtUG2IKPINuR+j7OUcAAQQQQAABBBBAAAEEUopAxNlzKaU0JqZ2aEVYrVqreZ9sQxKTEvkIIIAAAggggAACCCCAQMoUSBWBZ8qko1UIIIAAAggggAACCCCAAAKxEQh0caHYvJAyCCCAAAIIIIAAAggggAAC6UuAwDN9/b35WgQQQAABBBBAAAEEEEAgyQUIPJOcnBcigAACCCCAAAIIIIAAAulLgMAzff29+VoEEEAAAQQQQAABBBBAIMkFCDyTnJwXIoAAAggggAACCCCAAALpS4DAM339vflaBBBAAAEEEEAAAQQQQCDJBQg8k5ycFyKAAAIIIIAAAggggAAC6UuAwPM8f+9Tp07ZzJkzrUGDBlalShUbNmxYjKW3bdtm3bt3d+VU9tixYzGW5QYCCCCAAAIIIIAAAgggkJ4EMqWnj43Lt3722WfWpUsX2717t//YkSNH/HPv5OTJk9a1a1ebOnWql+WOZ86cCbvmAgEEEEAAAQQQQAABBBBIrwL0eMbwl1++fLkLOh9//HHr2bOnKxURERGltIJRBZ2VK1e20aNHW8mSJWMsG+VhMhBAAAEEEEAAAQQQQACBdCAQWOC5d+9eGzlypDVv3txKly7thpy2bdvWNm7cGMY4f/58U76Go6pczZo17emnn7Z9+/b55Q4cOGDNmjVzQ1f9zL9PDh8+7N7RqVOnyLfs0Ucfdfd0TGiqX7++ffPNN643s3DhwjFWlyNHDps4caJNmzbNatWqZRkzZoyxLDcQQAABBBBAAAEEEEAAgfQoEFjg+eyzz1qfPn1MQ0wVWN5yyy22YsUKW7duXZjrmDFjXH716tXtoYcespw5c9qUKVOsXr16fvCZL18+0/zK999/33755Zew5xW4qt4SJUqE5eti2bJl7p6OCU0VK1a0vHnzhlVz9uzZsGtdZM6c2apVqxYlP7qyUQqRgQACCCCAAAIIIIAAAgikA4FA5nj+8MMPtmjRIlMw+cEHH/hsR48eNfVQhqannnrKKlSoYNmzZ/ez+/fvb0OHDrVZs2ZZ69atXb56TlevXm3Tp0+39u3b+2UnT57szu+9914/jxMEEEAAAQQQQAABBBBAAIGUKxBI4Jk/f373hRpuu3//fvOuFVyGBpgqdN1115l6A3/77TdT+RMnTljx4sXd87t27XJH/VO3bl1TkDpu3Dj7z3/+YxkyZHC9n+rtrFGjhj+X0n/g3MmTTz7pVpON/M7QMpwjgAACCCCAAAIIIIAAAggkrUAggWeBAgXcliOzZ892czcrVarkgsOWLVta0aJFw77oq6++sm7dukWZ+6lChw4d8stq7uSDDz5o7777rn355ZduOKu2NlFSb2h0SUN8SQgggAACCCCAAAIIIIAAAilLILA5nm+++aaNGDHCzdX86aef3J6X119/vRuC632y9rbUsFktONSuXTu3CqzmbA4ZMsQViTwvsnHjxi5fw2t1T8N4NSe0du3aXpUcEUAAAQQQQAABBBBAAAEEUrhAID2e+kYNha1Tp477aW6nhsi+9NJLNmHCBLfaq8rMnTvXbVHSqlUr69y5s7Jc+vTTT73TsONVV11l+mnxoX//+9+2fft2e/jhhy1btmxh5bwLDcPV0N0sWbK4HlcvnyMCCCCAAAIIIIAAAggggEDyCQTS43n8+HG3Cq33GZpjedddd7lLLTzkpdOnT7vTPHnyeFmuJ/Pjjz/2ryOfeMNqFXAqNWzYMHIR/1pDbRXUMuTWJ+EEAQQQQAABBBBAAAEEEEh2gUB6PL/++ms3hLZp06ZuxVrN1dS+lkqPPPKI/5GVK1d256NGjXI9pJdddplp3qZWr40pNWjQwJ577jl3u3z58q7+mMoGma/tXDQXVWnLli3uOG/ePH/Ll44dO1qRIkVcvoYLL1y40J17Zbt37+62WtG2LC1atHD3+AcBBBBAAAEEEEAAAQQQSI8CgQSe2nczd+7cbksUD7FcuXLWoUMHa9asmZdlZcuWNW2d0qVLFxs4cKDL1+JDI0eOdL2UERERflnvRPWq93TGjBkxLirklQ3yqMBz4sSJYVVu2rTJ9FNSD6wXeH733XdRyk6dOtWV03YyBJ6Ogn8QQAABBBBAAAEEEEAgnQpEnFu052xQ337gwAHXI6ihtJFXsw19x5EjR2zHjh0uWD1fOT2j5tWqVcv1Oq5Zs8Yuvvji0Ko4RwABBBBAAAEEEEAAAQQQSOECgfR4et+onk/9LpS0VcoVV1xxoWKmOaFayVbDVzW3k6DzgmQUQAABBBBAAAEEEEAAAQRSnECgPZ5Bft17771n/fr1Mw1V1RYqc+bMsdKlSwf5CupCAAEEEEAAAQQQQAABBBBIAoFAezyDbG+xYsXszjvvtJIlS7qtVEqVKhVk9dSFAAIIIIAAAggggAACCCCQRAIptsczib6f1yCAAAIIIIAAAggggAACCCSyQCD7eCZyG6keAQQQQAABBBBAAAEEEEAgFQsQeKbiPx5NRwABBBBAAAEEEEAAAQRSg0AgczzXr19vy5Yts3r16llc5mJu3LjRVq1a5bZLKV68eJJ4jR8/3vbs2eO/68Ybb7SqVav615wggAACCCCAAAIIIIAAAggEKxBI4Kn9NV955RW7/PLL4xR4rl692nr06GEKOpMq8Fy+fLl9/fXXduLECdu/f79bMTe1B56nTp2yjz76yN566y3bvXu3tWnTxh5//PFo/0vZtm2bjRw50ubOnevuyyNbtmzRliUTAQQQQAABBBBAAAEEEAhCIJDAM74N0cq1tWvXtvz588e3ijg/N2TIEPfMypUrrVmzZnF+PqU98Nlnn1mXLl1cwOm17ciRI96pfzx58qR17drVpk6d6ufp5MyZM2HXXCCAAAIIIIAAAggggAACQQsk6xzPWrVq2ahRo6xSpUpBf1e6qU89lurlVA9nz5493XdHRERE+X4Fowo6K1eubKNHj3bb1KhQdGWjPEwGAggggAACCCCAAAIIIJAAgUADz3379lm7du2sQoUKdvPNN1v//v1Nw0Ajp06dOlmrVq3839q1ayMXsYULF7oeSc0d7dWrl11//fWu3qeeesoOHjwYVl69doMGDbKaNWu6MhpqumTJElf/nDlzwsrG5ULfo95EfUvp0qXtnnvu8YeoevWoPc2bN7foehm7devmvuGPP/7wiruj2qpn9Nu1a1fYvbhe1K9f37755hvXm1m4cOEYH8+RI4dNnDjRpk2b5ubUZsyYMcay3EAAAQQQQAABBBBAAAEEghQINPB85plnbN26ddaoUSPLmjWrDR061JQXOV100UWWK1cut8iPAkTNtYyc9u7daxoO++ijj9qYMWNcQHn48GHXa/ff//43rHjfvn3ttddes9OnT7t3ax5jq3OBrerevn17WNnYXmzdutUFspMmTTIFaVo4SXNZ1bOoBYq8VLJkSVuxYoXNnz/fy3LHHTt22Lhx41zgnTdv3rB7P/74o3tGz0UXsIYVvsBFxYoVLXL9Z8+ejfJU5syZrVq1alHyoysbpRAZCCCAAAIIIIAAAggggEACBAINPIsWLWqzZs2y3r1728yZM61cuXI2ZcoU27x5c1gTdV+9fi1atAjLj+5CC998+eWXbkiuVsBVUjDoJa1Qq+G60b3bKxOf40svvWQKdHVctGiRDRs2zLUjZ86c1qdPH7/XVb2gSqFt0rW+X0m9miQEEEAAAQQQQAABBBBAID0LBBp4Nm3a1PLkyeM8s2fPbvfff7879wLG+EDXrVvXChYs6B4tVKiQlS9f3gWEx48fd3laGVdJAV7ouxMS8P3111+2YMECV6+GDasXV8OBNSz21ltvde/fsGGDu6/tY2666SbXg+n1rqoXUcNaldT+yEnDYzXcWL98+fJFvs01AggggAACCCCAAAIIIJCmBAJd1VbzIEOThqEqafGb+KbIw0PLli1r2v/z6NGjbjjvL7/84qouU6ZM2Cu8d4dlxvJCQ3W95PVoetfe0XuvrrU6rlaXnT59uv2///f/7KuvvnJDfNWjq7mVkZOC0egC0sjluEYAAQQQQAABBBBAAAEE0oJAoIGn5hGGpgwZ/tehqj0z45vUc3q+5M1RDHJ1Vq+9WnVXiwtFlzS010vaEkZDcCdMmGDt27f3tyxp3LixV4QjAggggAACCCCAAAIIIJBuBQINPCP3bP72228O9pJLLkk04OLFi7u6vWGu3ot27tzpnUZ71OJHSprHGTmVKFHCZWnvSw3tvVBSXerdHDFihJsPqsWHNL81pm1ivv/+e9PiSUpVq1aNtlf0Qu/kPgIIIIAAAggggAACCCCQWgQCneOphYW0tYmXvAV2NE8ysZL2pVRSb6OG3yppC5fIi/24GyH/eG3SyrmRk+aUauiuhs9qBdrIyQsaQ/O1kq+StnJROt/CSVrtV6vu6pfQ7VTcy/gHAQQQQAABBBBAAAEEEEjBAoH2eGoBng4dOlidOnVs+fLltnTpUrvuuuvMCw7loDKao6nkBX2LFy+2X3/91eVde+21rrfQXcTiH/V4aiEh9TJqaKuGvare9evXn/fpLFmyWIMGDWz27NnWpEkTu+GGG+ziiy+2li1bmobtauVa1as5nho+q/mr2vbl008/tU8++cS03UpoUg+nvtVb7Eh1J0VSkK39QpW2bNnijvPmzTPtQarUsWNHK1KkiDvXli/aH1XJK9u9e3fTEGlty3K+YNk9xD8IIIAAAggggAACCCCAQDwEAgk8vfmV7dq1szHn9tycM2eOa4oCseHDh4c1S0GRtiYJTWPHjvUvtSengjivTu/oF/j7JDT/hRdecHMsFXy+/vrrVr16dXvllVfcHqIKMGNKXbt2tUOHDrn9PrXyrno5FXgq1ahRwz744AM3x7Nfv35hVTRs2DDs2rtQvgJP7fmZP39+LzvK0Zv7qhuh3xGlYCwyFHh6K+h6xTdt2mT6KT388MN+4Pndd99FKTt16lRXTkOOCTwdBf8ggAACCCCAAAIIIIBAwAIR5xbnORtknadPn3a9ablz5zZtf5KUSZ+i92fKlMntH/r000+7IFeBYELS77//7obE5sqVy4oVK+bqj66+nj172rvvvuuCb227QkIAAQQQQAABBBBAAAEEEDALpMczFDJjxox22WWXhWYl+rmG7qpn89JLL3VBoRYa8npRr7nmmgS/X0Nw9Ttf0hBiBZ1a7fbGG288X1HuIYAAAggggAACCCCAAALpSiDwwDM59JYtW2YvvfSSGyqrnlYFgUqdO3d2gWBitumbb76x1q1bu/mfeo+G/arHlYQAAggggAACCCCAAAIIIPA/gTQRIWm/Tc1R1LzGI0eOuHmNt912m1swKLH/0Ap0//Wvf7keUb2zSpUqif1K6kcAAQQQQAABBBBAAAEEUpVA4HM8U9XX01gEEEAAAQQQQAABBBBAAIFEFwh0H89Eby0vQAABBBBAAAEEEEAAAQQQSHUCBJ6p7k9GgxFAAAEEEEAAAQQQQACB1CVA4Jm6/l60FgEEEEAAAQQQQAABBBBIdQLJGnhqG5T33nvPfvnll8DgEqPOwBpHRQgggAACCCCAAAIIIIBAOhRI1sBz9erV1qNHD/vxxx8Do49NnX/88Ye99dZbtmLFisDeG9uKTp06ZTNnzrQGDRq4FXCHDRsW46Pbtm2z7t27u3JaLffYsWMxluUGAggggAACCCCAAAIIIJBSBZJ1O5VixYpZ7dq1LX/+/IH5xKbO/fv3W9++fd22KzVq1Ajs3Req6LPPPrMuXbrY7t27/aLa/iVyOnnypHXt2tWmTp0aduvMmTNh11wggAACCCCAAAIIIIAAAqlBIFkDT+2/qV+QKTHqDKp9y5cvd0Hn448/boUKFbLevXtbRERElOoVjCrorFy5snXo0MF69epl27dvj7ZslIfJQAABBBBAAAEEEEAAAQRSmECCA889e/bYk08+6YaDdu7cOezzduzYYcqrXr26K+Pd7NSpk6nX0UsdO3a0SpUqeZf+ce/evW5Y6uLFi92wWPWMXnvttabny5cv75fTSWzq7N+/v3399dd26NAh9+yMGTPsu+++8+sZOHCgFS1a1L/WyaBBg+zzzz93eQMGDDD1qMY31a9f3x577DHLmzevffTRRzFWkyNHDps4caJVq1bNlXnxxRdjLMsNBBBAAAEEEEAAAQQQQCClCyR4jmeRIkVMAeKQIUPs8OHDYd+r4GrlypVWsmTJsPyLLrrIcuXKZQpalyxZEhaEhhZ89tlnrU+fPqYhpm3btrVbbrnFBaDr1q0LLebOY1NnwYIFXVu84DJ37tzuWu3TL1OmqHG45p9qLqh+0Q2LjdKQ82RUrFjRBZ2hRc6ePRt66c4zZ87sB52hN6MrG3qfcwQQQAABBBBAAAEEEEAgJQpEjbTi0crGjRubehPVM6lFc7w0ZcoUd6p5nKFJQ0yV3n//fbd4Tug97/yHH36wRYsWud7SDz74wMu2o0ePRglwdTM2dT700EOunp9//tk++eQTq1mzplvcyK+cEwQQQAABBBBAAAEEEEAAgcAFEtzjqRb9+9//dg3T0FUvqadw06ZNLhBVz2Jck7fgkHpTQ4flZs+e3QoUKBDX6uJdXsNjNYxXv3z58sW7Hh5EAAEEEEAAAQQQQAABBNKrQCA9nqVLl3YL4agXUVuVaA7j3Llzneldd90VL1sFl+o9nT17tps/qjmgWoG2ZcuWUeZhxusFsXyobt26ph8JAQQQQAABBBBAAAEEEEAgfgKB9Hjq1Q0bNnQtWLBggWku4ocffmg5c+a0m2++OX4tO/fUm2++aSNGjLB69erZTz/9ZNrz8vrrr3dDcONdKQ8igAACCCCAAAIIIIAAAggkqUBggafXK6jhtlr8R9t/3H333ZY1a9Z4f1CGDBmsTp06LuBcvXq1Px90woQJ8a4z9MHTp0+HXkZ7/v3337sFkLQIUkIXF4r2BWQigAACCCCAAAIIIIAAAmlcILDAU0NjtYfmZ599ZiNHjnRs8R1mq4ePHz9up06d8vk1t9OrTwsPJSRdfPHF7vEvvvjigtUMHTrUWrVq5X67du26YHkKIIAAAggggAACCCCAAAIIhAsEMsfTq/Kee+5xw2BnzZplWhyoSpUq3i3/uHbtWtu4caO71lYrSloN99dff3Xn2qezXLlybr/N9u3bW9OmTa1ChQpu781p06a5Mo888og7ev/Etk6vvAJPbZ+idrRp08atnJslSxbXQxufhZC8ei90VCDdrVs3V2zLli3uOG/ePNu3b587136m2p5Gaf78+bZw4UJ37pXt3r27aasVbcvSokULd49/EEAAAQQQQAABBBBAAIGULhBo4KkeTy8pYMyYMaN36R8VaGmuZmgaO3asf9m3b18XeGoFWQWB6nH0kgLSDh06WLNmzbwsd4xtnd5DERER9tZbb9mgQYNszpw5pnmpSpqPGjnw1HBfL+m5hCQFnhMnTgyrQiv/6qf08MMP+4Hnd999F6Xs1KlTXTntl0rg6Sj4BwEEEEAAAQQQQAABBFKBQMS5hYDOpuR2HjhwwPUI5smTJ0lXs03JJrQNAQQQQAABBBBAAAEEEEhNAik+8ExNmLQVAQQQQAABBBBAAAEEEEAgqsD/jSONeo8cBBBAAAEEEEAAAQQQQAABBBIsQOCZYEIqQAABBBBAAAEEEEAAAQQQOJ8Agef5dLiHAAIIIIAAAggggAACCCCQYAECzwQTUgECCCCAAAIIIIAAAggggMD5BAg8z6fDPQQQQAABBBBAAAEEEEAAgQQLEHgmmJAKEEAAAQQQQAABBBBAAAEEzieQqIHnrFmzbMSIEed7f7q9d/jwYdOPhAACCCCAAAIIIIAAAgikdYFEDTzHjRtnL7/8sp09ezatO9q2bduse/fuVqVKFfc7duxYtN+8ceNGu+uuu6xChQru16BBA9uwYUO0ZclEAAEEEEAAAQQQQAABBNKCQKa08BHJ+Q0nT560rl272tSpU8OacebMmbBrXfzyyy/WsGFD19P5wAMPWKZMmeydd96xJk2a2Jw5c6x06dJRniEDAQQQQAABBBBAAAEEEEjtAona45nacWLT/iNHjrigs3LlyjZ69GgrWbKkeywiIiLK45MnT3ZBpwLVF1980Xr27GmtWrVyeR988EGU8mQggAACCCCAAAIIIIAAAmlBILDAc9OmTS6I0hDSmjVr2rvvvhujz9q1a61NmzZuSKrKK/jSENTQtH//fuvXr5/VrVvX9QSqXLNmzezDDz8MLeafT58+3d3XsNVRo0bZPffc457TUNY1a9b45XSyc+dOa968ufsNHjw47F5cL3LkyGETJ060adOmWa1atSxjxowxVvH++++7e40bN3bHX3/91RSMKo0dOzZdDEl2H8s/CCCAAAIIIIAAAgggkK4EAhlqqyGkd999t+u50/zFDBkyuN686CTnzp1rjz/+uLtVvXp105DUJUuWuJ/uXXnlle7e5s2bbdiwYVapUiW7//777a+//rJFixbZypUr3ZDVJ554Iqz6Xbt2uXuvvvqqq+u6666z2rVr2+eff27ffPONqUfSS+qlXLFihbssWLCglx2vY+bMma1atWpRno08r/X48eOmYFo9ogUKFHDlX3rpJWeWM2dOdzx48KDlzp07Sl1kIIAAAggggAACCCCAAAKpWSCQwFM9jFqhVYFUixYtnIeCSg0pDU0qowV4lDSnUb2YSgoC1QOp4afjx493eWXKlLF58+ZZ+fLl3bX++fPPP10gOnDgQGvXrp2bI+nf/PtEQeyUKVNMgaeS3qmexeROBw4ccE0oVKiQO3766ac2Y8YMe+GFF9x3ykBlCDyT+y/F+xFAAAEEEEAAAQQQQCBogUACT/VEKmnhHC9pqGvkwPOLL75wvX7qfTx9+rRpyK2SevyKFi3qAlCtBpstWzbXK6ieQV3v2bPH/vjjDzcU9aqrrrL169e7HtB8+fJ5r/OPrVu39oNOr27VH5ry589vnTp1clnlypULvZVo5wqalTQ09+jRo/bMM8+4Xlj15i5fvtzd88q4C/5BAAEEEEAAAQQQQAABBNKIQIIDTw2V3b59uxtCmj17dp8lS5YsrrcydO7m1q1b3X3Nubzzzjv9sqEnCjJLn1vd9dSpU24rlrfffjv0tn+u4bLRBZ7XXnutXyamEz3XoUOHmG4nSn6uXLlcvRpO++abb9ru3bttzJgxbk6ovkXJK+Mu+AcBBBBAAAEEEEAAAQQQSCMCgQSesohuUR1tFxKaNM9RqWPHjlanTp3QW/75JZdc4s41XFZBZ9WqVd38UfV0qie0R48ebi5ndNuV6EH1ZqbE5AXJCrr1e/LJJ+2KK65wTf3999/d0SuTEttPmxBAAAEEEEAAAQQQQACB+AqER4bxqEXBpYbJ7tu3zw2f9QJQLa6zZcuWsBpLlSrlrrUgT+jczbBCf1+88cYb7kxH1a+kPTO1uND5UnTbmEQurx7GVatWuezChQv7CxpFLhfktXqDvUWENH/VW2BJc1A1dFj38uTJE+QrqQsBBBBAAAEEEEAAAQQQSBECgWynUqVKFbeIj7dSrL5MgZ2CqtDkrSyrrUM0dzNy2rt3r5914sQJd37RRRf5eRcKOv2CFzjRdirawkW/4cOHX6B0cLe1gJLSHXfcYVmzZnXnWkBJqVGjRhaboNkV5h8EEEAAAQQQQAABBBBAIBUJJLjHU9+qPTlnz55tjz32mHXr1s19fp8+faIwqOdSw2y1Km29evWsbdu2ljdvXrc9ysyZM00rvo4ePdo9d8stt9jUqVPd6rX33nuvaTjqgAEDotSZEjLmz59vCxcudE3xenm1eq96ditWrOiv9Kt9SEeOHOnmeKpnWPf79+/vnrvvvvtSwqfQBgQQQAABBBBAAAEEEEAgcIFAAs9rrrnGBg0a5Bbsee6551wj69evb+rBXL16dVijtaiPVqvt27eveWVVQHMzGzdu7JfVPe3NuXTpUvfTDfVQap7ohAkTovQOer2F3tGvKJqT2JSJ5rEYs7777jubOHFi2H0FzUrq9fW2mClbtqxNnjzZBegKvpX03bK70NBjV5h/EEAAAQQQQAABBBBAAIFUKBBxbi7m2aDarZVo1eOnYOpCC+XotVrBVntXqrzmWkYOCL0y2mZE8yK94alBtTc569mxY4fbHqZkyZLJ2QzejQACCCCAAAIIIIAAAggkukCggWeit5YXIIAAAggggAACCCCAAAIIpDqBQBYXSnVfTYMRQAABBBBAAAEEEEAAAQSSTIDAM8moeRECCCCAAAIIIIAAAgggkD4FCDzT59+dr0YAAQQQQAABBBBAAAEEkkyAwDPJqHkRAggggAACCCCAAAIIIJA+BQg80+ffna9GAAEEEEAAAQQQQAABBJJMgMDzAtTaIkZbn/z1118XKMltBBBAAAEEEEAAAQQQQACB6AQIPKNTOZd34sQJe+211+yyyy6zm266ya6++mqrWbOmffvttzE8QTYCCCCAAAIIIIAAAggggEB0AuzjGZ3Kubz//ve/9uabb1rOnDmtZcuWtnnzZvv4449d6YULF1rZsmVjeJJsBBBAAAEEEEAAAQQQQACBUAECz1CNv8+PHTtm5cuXd1crVqywYsWKufP33nvPevToYY8++qg9++yz0TxJFgIIIIAAAggggAACCCCAQGSBBA+13b17tzVr1sy6d+9u119/vfvNmzfPunTpYqVLl7YmTZrYgQMHwt47ffp098yGDRts1KhRds8997iyDRo0sDVr1vhl9+7dayNHjrTmzZu7+1WqVLG2bdvaxo0b/TKhJwoIVVbHhKSdO3e6x8uUKeMHncqoVauWy58yZYo78g8CCCCAAAIIIIAAAggggMCFBRIceB49etRWrlxp77//vlWoUMEUiD722GOm4ajVq1e3VatW2eTJk8NasmvXLvfMq6++ai+99JJlzJjRateubVu2bLFvvvnGL6texT59+tiZM2dcwHnLLbeYeiDXrVvnlwk9WbZsmbuvY0LSoUOH3OMlSpQIq6ZgwYLuev/+/W4OaNhNLhBAAAEEEEAAAQQQQAABBKIVyBRtbjwyH3zwQevdu7fr6Zw0aZINHjzYqlWrZpdeemmMC/IsWbLE1Ht43XXXuTcePnzYfv31V3f+ww8/2KJFi1zw+sEHH/gtUqCrcomZvKG1S5cuNa1qmynT/5i++uor/7W///67FS5c2L/mBAEEEEAAAQQQQAABBBBAIHqBwALPokWLujcUKVLEHXWdIUMGK1myZIxbkbRu3doPOvWQFvLRTyl//vzuqOG26mH0rrNnz276RZeefPJJ0/zMmO5H90x0eQUKFLCrrrrK1q9f7wLoVq1auZ5cBdNe0vYqBJ6eBkcEEEAAAQQQQAABBBBAIGaBwALPbNmyubdkyZLFHbNmzeofvaGrkZtx7bXXRs7yrxX8ac7n7NmzTXM7K1WqZDVq1HArzHpBrl/47xPN/wwiRUREuN5brWb7+uuvu5/qVVBcrlw527Rpk1188cVBvIo6EEAAAQQQQAABBBBAAIE0L5DgOZ6ekHo3lRS0hSbN34wpeb2YMd3XdiYjRoywevXq2U8//WTDhg1zixdpCG5iJwW7n3zyiXXt2tUaNWrkjnPmzPEDznz58iV2E6gfAQQQQAABBBBAAAEEEEgTAoH1eMZHI3KQGrkOBbN16tRxP83tHDdunFuMaMKECf4Ks6HPaOGhEydOmHpd1Tua0KS5no8//rhfjeafarEkbbXiBdr+TU4QQAABBBBAAAEEEEAAAQSiFUjWwDPaFv2defz4cbfarbewj+Zt3nXXXS7w1MJD0SUNtdXCQxoSq61aEpLOnj0b1nt7+vRp++9//+uq1JxPEgIIIIAAAggggAACCCCAQOwEUmzg+fXXX1v79u2tadOmbpsWzROdNm2a+6pHHnkkdl+XgFLaDmb48OGuZ1U9s4sXL3a9ndrbUwEwCQEEEEAAAQQQQAABBBBAIHYCCQ48Iw859YbPhuZHnufplfGO0TVVcyhz585tQ4cO9W9rYZ8OHTpYs2bN/LzEOsmbN6+tXr3a/bx3aNiv9h5N6Kq5Xn0cEUAAAQQQQAABBBBAAIH0IBBxbkjp2ZT8oQcOHLB9+/ZZnjx5LKbVbBOr/Rruu2PHDtMwW/V0eiv2Jtb7qBcBBBBAAAEEEEAAAQQQSIsCKT7wTIvofBMCCCCAAAIIIIAAAgggkJ4EAttOJT2h8a0IIIAAAggggAACCCCAAAKxFyDwjL0VJRFAAAEEEEAAAQQQQAABBOIhQOAZDzQeQQABBBBAAAEEEEAAAQQQiL0AgWfsrSiJAAIIIIAAAggggAACCCAQDwECz3ig8QgCCCCAAAIIIIAAAggggEDsBQg8Y29FSQQQQAABBBBAAAEEEEAAgXgIZIrHM4E9snHjRlu1apXVqlXLihcvft56t27dal9++aXt37/flWvatKldfPHF532GmwgggAACCCCAAAIIIIAAAskvkKyB5+rVq61Hjx4u6Dxf4Ll8+XK7//77w7Rq166dIgLPbt262bhx48LaFnrxxBNPWMeOHUOzOEcAAQQQQAABBBBAAAEE0pVAsgaexYoVMwWQ+fPnPy/622+/7e4PGzbMbrvtNsuUKZNlyJAyRglfccUV1qBBgyjtX7x4sR0+fNjKlSsX5R4ZCCCAAAIIIIAAAggggEB6Eog4ey6l9A+uWbOm7du3z9avX28REREpvbl28uRJu+aaa1w71aubPXv2FN9mGogAAggggAACCCCAAAIIJJZAgno8T5w4YS1btrTKlStb165do22j5mY+88wzdscdd/jDZTt16uTP1dRDGopaqVKlsOcXLlxoI0eOdHlbtmxxx/vuu88v89prr9kll1ziX69du9YGDRpka9assWPHjtk///lP997y5cv7ZbyTnTt3WufOnd1ljRo1rH379t6tQI5eb+eDDz5I0BmIKJUggAACCCCAAAIIIIBAahZI0HjVLFmyuADyvffei9FAgeDKlSstZ86cfpmLLrrIcuXKZXv27LElS5aEBaFeIZUvWbKk+3l53rWOGm7rpblz59pdd91lCxYscENbK1So4OqtW7euff/9914x/3jkyBFbsWKF+23atMnPD+rkgw8+cFXde++9QVVJPQgggAACCCCAAAIIIIBAqhX4v+gtnp9QvXp1Gzt2rO3YscNKlCgRpZZvvvnG5alX1Eu9e/d2p++//751797dyw47ql79lBS4avhq//79w8roQvMovTrmzJljCjqVFFg2b97cXnzxRRs/frzLS4p/1Ju6aNEiK1OmTJRe3KR4P+9AAAEEEEAAAQQQQAABBFKaQIJ6PPUxGtKqtG7dOnd87rnnrHTp0qYhtkpfffWVWzyoVKlS7jrof7744gvXY6rA9vTp06Yht/qpx7Ro0aIuANXQ29CkxYw03Fe/evXqhd5K8PnUqVNdHQ888ECC66ICBBBAAAEEEEAAAQQQQCAtCCS4x9NbROfbb791QdzHH3/sXJYtW2aFChVyCwJpfmdiJS/A1ZDeO++8M9rXaEivgmEv5cuXzzp06OBdBnY8deqUjRkzxtWXmN8cWIOpCAEEEEAAAQQQQAABBBBIAoEEB56ab6keRK3e+sMPP7jeRy3Yo7mbV155pfuEqlWrJtqnHD9+3NWtBYrq1KkT7XtCFyGKtkBAmdpvdP/+/Xb77bdbwYIFA6qVahBAAAEEEEAAAQQQQACB1C2Q4MBTn3/jjTfajBkzTKu5am5j69at3e/aa691Ot4xMai8IbyZM2e26Fawje6dWlxo1apV7lbhwoX9ADm6snHJmzRpkivepEmTuDxGWQQQQAABBBBAAAEEEEAgTQskeI6ndLx5nv369TOtJOstCuQtBnTFFVckGqK3aJEWOIo8l1Mv3bt3b5R3awGgVq1aud/w4cOj3I9Pxq+//mpa3EhzS2+99db4VMEzCCCAAAIIIIAAAggggECaFAikx9ML/iR0yy23+MGXhtvefPPNYVufaOGfjRs3OkytVquknlIFbkrqHS1Xrpw7j80/WkBIw2wHDhzo5pi2bdvW8ubNa7/88ovNnDnTzTMdPXp0bKpKUJnp06e751u0aGHqfSUhgAACCCCAAAIIIIAAAgj8TyCQwDO0R7NKlSqu5lq1arl5npHnd86bN8+GDRsW5q/eSi/17ds3ToGnntNCQQUKFDA9q1V1vaS5p40bN/Yu/WNERIR/HtSJt2XLPffcE1SV1IMAAggggAACCCCAAAIIpAmBiLPnUpr4knMfoU/RCrYHDhxwCx5p/mZiBJlpxYvvQAABBBBAAAEEEEAAAQSSQiBNBZ5JAcY7EEAAAQQQQAABBBBAAAEE4iYQyOJCcXslpRFAAAEEEEAAAQQQQAABBNKTAIFnevpr860IIIAAAggggAACCCCAQDIIEHgmAzqvRAABBBBAAAEEEEAAAQTSkwCBZ3r6a/OtCCCAAAIIIIAAAggggEAyCBB4JgM6r0QAAQQQQAABBBBAAAEE0pMAgWd6+mvzrQgggAACCCCAAAIIIIBAMghkSoZ3+q/cuHGjrVq1ymrVqmXFixf38+N6smzZMleP91ypUqWsYcOG3iVHBBBAAAEEEEAAAQQQQACBZBRI1sBz9erV1qNHDxd0JiTwVAA7efJkx7h792679dZbkyzw7Natm40bNy7GP+ETTzxhHTt2jPE+NxBAAAEEEEAAAQQQQACBtC6QrIFnsWLFrHbt2pY/f/4EObdp08b0O3nypJUrVy5BdcX14SuuuMIaNGgQ5bHFixfb4cOHk7w9URpCBgIIIIAAAggggAACCCCQzAIRZ8+lZG5DYK/3Ak/1eI4ZMyaweuNakdpxzTXXuMfUq5s9e/a4VkF5BBBAAAEEEEAAAQQQQCDNCATW47lp0yZ78cUXbenSpa6Xr2XLlrZr1y774YcfbPTo0WFgnTp1sv379/t5GopaqVIl/9o7UUx8//3325VXXmlNmza1ESNG2Lx589ztRo0aWe/evb2icTru3LnTOnfu7J6pUaOGtW/fPk7PX6iw19v54IMPEnReCIv7CCCAAAIIIIAAAgggkOYFAgk8Fcjdfffdbmiphp1mzZrVnn/+eR9PAWRERIR/fdFFF9mJEydMwarmZypIjS7puRUrVpjmbX700UfuGQWK+/bts3fffTfegeeRI0dcvXpnwYIFo3t1gvI++OAD9/y9996boHp4GAEEEEAAAQQQQAABBBBICwKBBJ6jRo1yQWevXr2sVatWzuXGG2+McVEdr6fy/ffft+7du1/QccuWLW4e5YABAyxbtmyu/IYNGy74XHIUUBC+aNEiK1OmTLS9uMnRJt6JAAIIIIAAAggggAACCCSnQCCB58KFC903aDisl+644w4XVGqBnSBSz549/aBT9VWoUCHe1WoxIw33VQp6MaKpU6e6eh944AF35B8EEEAAAQQQQAABBBBAIL0LJDjwPH36tG3fvt1KliwZNp8xU6ZMVqJECTeUNqHIqjvIIbH58uWzDh06JLRZUZ4/deqUv6iRAm8SAggggAACCCCAAAIIIICAWYaEIniL4mbMmDGhVcX4fJEiRWK8l5JuLF++3C2adPvttwcaKKekb6QtCCCAAAIIIIAAAggggEBcBRLc46meTfVIah6mFgzKkiWLa4N6/3bs2BHX9kRbPkOG2MXH3gJGf/75Z7T1eJlaXGjVqlXusnDhwm7VXO9eQo6TJk1yjzdp0iQh1fAsAggggAACCCCAAAIIIJCmBGIX0V3gk7WQkNKMGTP8kt6WIn5GEpwoCNYenmvWrLGjR4/G+EYtAKRFkPQbPnx4jOXicuPXX3+1OXPmWM6cOV0b4vIsZRFAAAEEEEAAAQQQQACBtCyQ4B5P4TzyyCM2fvx4tzfm+vXr3SJA2nMzurR27Vp/3ufKlStdEQWpCtyUrr322gQt+POvf/3LlixZYnXq1LF77rnH1Fvapk0bFxC6FyTSP9OnT3c1t2jRwjJnzpxIb6FaBBBAAAEEEEAAAQQQQCD1CQQSeJYuXdr1dvbo0cPtr6lVY5977jmbP3++rV69OmwPz3nz5tmwYcPCpMaOHetf9+3bN0GBp/YT/f77702ry77xxhuu3mbNmoUFnt6QXP+lAZwo8FZSsEtCAAEEEEAAAQQQQAABBBD4P4GIc4sDnf2/y4SfaW6nhrwqValSxXLnzm3q0SQhgAACCCCAAAIIIIAAAgikT4FA5niKbsGCBXb8+HEXdJ48edINvd2/f7/dfPPN6VOWr0YAAQQQQAABBBBAAAEEEHACgfV4aritFtapUKGCbdiwwQ4fPmwacjt37lwrVKgQ3AgggAACCCCAAAIIIIAAAulUILDA88MPP7Svv/7adu/ebbly5bLy5cubFtrROQkBBBBAAAEEEEAAAQQQQCD9CgQWeKZfQr4cAQQQQAABBBBAAAEEEEDgfAKBzfE830u4hwACCCCAAAIIIIAAAgggkH4FCDzT79+eL0cAAQQQQAABBBBAAAEEkkSAwDMWzGfOnLHt27fbnj177PTp07F4giIIIIAAAggggAACCCCAAAKewP823PSuOIYJaGXeHj162Lx589HzrfIAACzBSURBVNwqvbqplXrfeecdu/rqq8PKcoEAAggggAACCCCAAAIIIBC9AIFn9C527Ngxa9iwoW3cuNGuuuoqtx/p2bNn3X6lBw4ciOEpshFAAAEEEEAAAQQQQAABBCILsKptZJG/rydNmmRdunRxwWe/fv0sU6b/xegKPjXc1ruO4XGyEUAAAQQQQAABBBBAAAEE/hZIcOCpfTs7duxol112mS1cuNBV27NnT1u0aJEpeKtataoNHz7c8uXL5+7Nnz/fJk+e7Pb83L9/v5UpU8aqVKnigrxChQr5fxjVNXLkSGvfvr3rZfz444/tr7/+sjp16ljv3r2j3R/00UcftYMHD7p7I0aM8OuKz0ndunVdb+eXX35pBQsWjE8VPIMAAggggAACCCCAAAIIIHBOIMFDbY8ePWorV650v9q1a7sg8bHHHnNzIatXr+7yFWgqKFQaM2aMrV271m699VZToKnAbsqUKbZ48WKbO3euy1O5vXv3umfXrVvn5ld6dU+dOtXy5MljCm4jp2XLlrmyOXPmjHwrTtenTp1yQafaf/LkSRs7dqxt2bLFypYta/Xq1fOD6DhVSmEEEEAAAQQQQAABBBBAIJ0KJDjw9NwefPBB1xOp4anq6Rw8eLBVq1bNLr30Uvv222+9YvbUU09ZhQoVLHv27H5e//79bejQoTZr1ixr3bq1n6+TbNmy2ZIlS1yv4759+1wPquqPLvAMezABF+qJVVJQffvtt/sLCymvb9++LlC+8sordUlCAAEEEEAAAQQQQAABBBC4gEBggWfRokXdq4oUKeKOus6QIYOVLFnSDZH12nHdddeZ5kn+9ttvrlfzxIkTVrx4cXd7165dXjH/qCGv3lBX9ZCWL1/e9UYeP37csmbN6pfTyZNPPukWBQoNasMKxPLi999/dyXVM6v2Pvvss1asWDF766233Iq2zz//vAs+Y1kdxRBAAAEEEEAAAQQQQACBdC0QWOCpnkmlLFmyuKMXFOp46NAhl6d/vvrqK+vWrZsLHv3Mv09Cy3n31GsamjTcVSvNqjfSe4d3v23btt5pgo65cuXyn+/UqZObg6qMrl27usBz9erV9scff1jevHn9cpwggAACCCCAAAIIIIAAAghEL5Ah+uy456p3UykiIiLs4YwZM/rX2qJEiwUpcGzXrp2NHj3atNjQkCFDXBn1hEZOCe29jFxfbK4vvvhiv5gWPvKSgmvN+1TauXOnl80RAQQQQAABBBBAAAEEEEDgPAKB9Xie5x3+LS0epFVwW7VqZZ07d/bzP/30U/88IScrVqwwDd1Vr2uNGjXiXVWOHDlMCxQdPnzY/vzzT3+oryrUokdKCV3AyFXCPwgggAACCCCAAAIIIIBAOhAIrMczNlba/1JJq9J6Sb2c2ioliKShtgpqgxhye++997omLV261G/anj173Oq2ytCcTxICCCCAAAIIIIAAAggggMCFBZK0x7Ny5cquRaNGjXILD2nvz5kzZ5rmTKa01KxZM7eNiuZ4rlq1yi2ApK1glDRM2JvL6jL4BwEEEEAAAQQQQAABBBBAIEaBBPd4enM7vTd4czxD8715nloYSFunaAjrwIEDXQCnrVZGjhzpHvee1YV37h29+r1jTPne/YQeteXLhAkT3H6kEydOtNdee820zYq2e+nQoUNCq+d5BBBAAAEEEEAAAQQQQCDdCEScG+oadUWfRP78I0eO2I4dOyx37tzmbcOSyK9MUPWal/rXX3+5rWGSY7GjBDWehxFAAAEEEEAAAQQQQACBZBZIlsAzmb+Z1yOAAAIIIIAAAggggAACCCShQIKH2iZhW3kVAggggAACCCCAAAIIIIBAKhQg8EyFfzSajAACCCCAAAIIIIAAAgikJgECz9T016KtCCCAAAIIIIAAAggggEAqFCDwTIV/NJqMAAIIIIAAAggggAACCKQmAQLP1PTXoq0IIIAAAggggAACCCCAQCoUIPBMhX80mowAAggggAACCCCAAAIIpCaBNBt4au/N4cOH25o1a5L073Hw4EHbunWrHT58OEnfy8sQQAABBBBAAAEEEEAAgZQqkGYDzx07dtgrr7xiK1euTBL7JUuWWM2aNa1ixYp26623WoUKFezpp59OknfzEgQQQAABBBBAAAEEEEAgJQtkSsmNSy1tmzVrlnXo0ME1t1GjRlayZEnbsmWL6/lMLd9AOxFAAAEEEEAAAQQQQACBxBIg8Eyg7KlTp6xv376uFgWg6vH00smTJ71TjggggAACCCCAAAIIIIBAuhUIbKjtpk2brGXLlla6dGm7/fbbbezYsdavXz97+OGHo+DOnj3b1DOostdff7116tTJfvvttyjlDhw4YF26dLGbb77ZldUz06ZNi1Lu9OnTNnjwYDfUVUNc27RpYxpqG1PauXOnNW/e3P30XELS4sWLTfNJW7duHRZ0qs7MmTMnpGqeRQABBBBAAAEEEEAAAQTShEAgPZ4K5O6++263oE6DBg0sa9as9vzzz/tAZ8+etYiICHetgFT3cubM6QK/Xbt22YcffmiaI6kgLnfu3K6cFuepX7++C+puuukm02/evHnWsWNHF6S2bdvWr189jm+//baVKVPGBbRLly51waxfINLJkSNHbMWKFS63YMGCke7G7fKnn35yD9SuXdt9wxdffGHZsmWzKlWq2I033hi3yiiNAAIIIIAAAggggAACCKRBgUACz1GjRrmgs1evXtaqVSvHpKBLQWJoUsCnBX+UFESWKFHCnStPK9C+99571r59e5c3YcIEF3Q++OCD1rt3b5enewrwXn/9dWvWrJnlypXL9uzZ44JOzavUUNeLLrrID4A1zzKxk96vNGLECBd4hr7v/vvvtz59+oRmcY4AAggggAACCCCAAAIIpDuBQIbaLly40ME1bdrUB7zjjjtcr6afce7khx9+cEFhw4YN/aBT9xVcKqmn0kvLli1zpw899JCXZUWLFvV7Vjds2ODyV69e7Y6NGzd2QacuvN5UdyOaf/Lnz+96RDXEt169etGUiH2WN0RYPbbdunVz27coEFcgPG7cOFu+fHnsK6MkAggggAACCCCAAAIIIJAGBRLc46n5ldu3b3eBVvbs2X2iTJkyueBy48aNfp6G1SqVLVvWz9OJAkqln3/+2R31z+bNm9158eLF/TydXHbZZe5aw3uVvKPmi4amyNeh9/Lly+evQhuaH59zb2hw1apVzRv+q15ZffeAAQNcL+gNN9wQn6p5BgEEEEAAAQQQQAABBBBIEwIJ7vHU/E2ljBkzXhDkxIkTrkx0i+6ol/LYsWN+Hd6KsJHrVUCr5NWlVWWVMmQI/5To3uEKBvxPgQIFXI3auzM0KRBV2rp1qzvyDwIIIIAAAggggAACCCCQXgXCo7V4KCgQ9Pat9IJBVaOAMPLKssWKFXNv8Ho+vdcdPHjQDcH1ejOVX6pUKXd7//79XjF39J716vKO3pBXr7BWmo0paa6phsbq9/3338dULFb5RYoUceX27dsXVt5rj+ahkhBAAAEEEEAAAQQQQACB9CyQ4MBTeN7qrTNmzPAttUKtVqYNTd4Q25kzZ4b1bn700Ueu2NVXX+0X9/bDnDNnjp+nwHb69Onu+vLLL3fHf/zjH+6ohYW83lcdQ9viV/D3iYbnahEk/bSoUULSbbfd5h7/+OOPTcOOveStmhsaTHv3OCKAAAIIIIAAAggggAAC6UkgwXM8hfXII4/Y+PHjrXPnzrZ+/Xq3nYhWeY2cNCxVCwm9++67bs/P++67z61Kq/0+lbQXppe0/+fIkSOtZ8+edujQIVPP5uTJk91Kt1rEyJsXesUVV5iGuar38sknnzQFgjpfuXKlV1WiHtXjqW1fFCBrbmeLFi3s888/twULFrj3NmnSJFHfT+UIIIAAAggggAACCCCAQEoXiDjXO/i/SZoJbOnatWutR48epqNWjX300Udt/vz5plVnQ+c5ah6nthjRfp5eUvkhQ4ZY9erVvSx31LMdOnRwwaZ3Q0Fnr169LHQhoz/++MOV++yzz1wxzRdt06aNvfHGG9a1a1d7/PHHvcfdUXtvKkhUuuuuu1w5dxHPf/RNzz77rE2bNs2vQcOPBw4c6Pbz9DM5QQABBBBAAAEEEEAAAQTSoUBggadnp7md3gJAVapUMa36qmG3kdPRo0dt27ZtlidPHlOvYUREROQi/rXma/75559u3mdowOkX+PtE8yp///13K1OmjN+GyGUS81oBqILs2HxTYraDuhFAAAEEEEAAAQQQQACBlCQQyFBbfZCGlt50002WNWtW04q0GharhYEaNGgQ7fcqgCxfvny09yJnalitN7Q28r3Qaw3l9VaZDc1PqvNs2bLF+puSqk28BwEEEEAAAQQQQAABBBBIboHAejy1b6aGuFaoUME2bNjgFhbSENq5c+daoUKFkvs7eT8CCCCAAAIIIIAAAggggEAyCQQWeH744Yf29ddfu/mY2kJEvZlaaIftRJLpL8trEUAAAQQQQAABBBBAAIEUIhBY4JlCvodmIIAAAggggAACCCCAAAIIpDCBQPbxTGHfRHMQQAABBBBAAAEEEEAAAQRSkACBZwr6Y9AUBBBAAAEEEEAAAQQQQCAtChB4psW/Kt+EAAIIIIAAAggggAACCKQggUQNPGfNmmUjRoxIMZ+rPT6HDx9uy5cvTzFtSq6GHDx40O05evjw4eRqAu9FAAEEEEAAAQQQQACBdCKQqIHnuHHj7OWXX7azZ8+mCM7ffvvNXnnlFVu0aFGs26Oyb731lh09ejTWz6TkgkuWLLGaNWtaxYoV7dZbb3Xb3zz99NMpucm0DQEEEEAAAQQQQAABBFK5QKZU3v5Eb/6MGTNMv4YNG1r27NkT/X2J+QL1QHfo0MG9olGjRlayZEnbsmWL6/lMzPdSNwIIIIAAAggggAACCKRvAQLPdPL3P3XqlPXt29d9rQJQ9Xh66eTJk94pRwQQQAABBBBAAAEEEEAgcIHAhtpu2rTJWrVq5YZuaijnu+++G21j58+fb23btrUqVapY6dKl3bBPDfXct29fWHkNcX3ggQfsq6++Cst/8803XX7o3MQzZ87YoEGDXF0VKlSwNm3amIaUqj1z5swJe967eO+996xBgwauDc2aNbPNmzd7t9y58vRbsGCBy1edXt6QIUP8st7JtGnTrEmTJq6+66+/3rp27WqaUxo5/fDDD66eqVOn2sKFC+3hhx/2n5k8eXJY8Z07d1rz5s3db/DgwWH34nqxePFi2717t7Vu3Tos6FQ9mTNnjmt1lEcAAQQQQAABBBBAAAEEYi0QSI/nL7/8YnfffbcpGLzrrrssQ4YM1rNnz2gbMWbMGFu7dq2bX1ioUCH78ssvbcqUKabAaO7cuaY8pT179thnn31mLVu2DKtHgZvyQ3vp1JM3atQoN3RUQ0hXrFjhgk49WK1atbDndfHBBx+4ttaoUcOKFi1qK1eutEcffdQUFEdERLhATMNQlbZt2+bKXnLJJZYjRw6Xly9fPnf0/nnxxRft7bffdpf169e3devW2cSJE+3zzz+3efPm+c+pgBb10fsU7Ok7ypQpY3Xq1LHvv//evb9x48ZetXbkyBH3LcooWLCgnx+fk59++sk9Vrt2bReUf/HFF5YtWzb3PwBuvPHG+FTJMwgggAACCCCAAAIIIIBArAQCCTwV9CnofOmll6xFixbuxdWrV3e9fpFb8dRTT7le0dD5kv3797ehQ4eahoCqRy4uSQGq3q8AUs/nyZPHLQR05513mnpho0tqq4Ld6667zjQEVT2fGzdutJ9//tkuu+wyK1GihKlNSk888YSb49m7d2/Lnz9/lOq+/fZbF3QqgPzwww9NQanXAztw4EB75513rF27dlGeU9D5/PPP+997+vTpGNsb5eF4ZMhJSasMqzc4NN1///3Wp0+f0CzOEUAAAQQQQAABBBBAAIHABAIZauutEqsFeLx0zz33eKdhRwV76mnTCrMbNmywNWvWWPHixV2ZXbt2hZWNzcXq1atdMQ1JVdCppKBW1zEl9WaqHUqZMmUyr8cv8nDfmJ4PzVcvrdItt9xi6vlVb656PCtVquTyP/30U3eM/E/58uXdMFsvP2PGjKa80KRAt1OnTu5Xr1690FtxPpe3koLObt26OXevl1irD7PFTJxJeQABBBBAAAEEEEAAAQRiKZDgHk/17m3fvt0Ncw3txcySJYsLpNSTGJo0Z1OBT+R8lTl06FBo0VidK9hTUo9jaPKGyobmeedeoOldlypVyp1qaGtck9erqiHE+kVO6kWNLv3zn/90w3qju+flqffUW4XWy4vvMXfu3O7RqlWrujm2utCwW/0dBgwY4ALSG264Ib7V8xwCCCCAAAIIIIAAAgggEKNAIIGnalePXeSk3sTQdOzYMWvfvr1b5EbDT7XAkHo7FbzpOjb7fZ44cSK0Sv8Zzc2MbQoNkGP7TEzljh8/7m6p99DruQ0tG9PCPQUKFAgtlujn3vu0d2doUiCqtHXrVnfkHwQQQAABBBBAAAEEEEAgaIHwyDAetSu41PxKDVPVPEUvAFUQqT0iQ5OGpWpl1VbnVpvt3Lmzfyu64ajqMVU6cOCAX051fv311/61TrxgT72uoUkrwgaZNBc0unTppZe6RYLy5s0bZahsdOW9vNgEyuqBXbVqlXukcOHCduWVV3qPx/lYpEgR90zk4cTeENxcuXLFuU4eQAABBBBAAAEEEEAAAQRiIxDIHE/1XGrBHq0m6yUFTMoLTQpMlby5mDpXMPnxxx/rNCx5PXRa9dZLWtF2//793qU7Vq5c2R0nTJjgFhXShYLESZMmufyE/uO1Y/369dFWpUWUlMaOHRvlvtoRGjhHKXCBDAXPCtL1Gz58+AVKn//2bbfd5grI2vs7KMP7m2lRJRICCCCAAAIIIIAAAgggkBgCCe7xVKO0x+Xs2bPtsccec/M3lRfdKqlekKhhqdpyRcHOzJkzzVsgSM956eqrr3anWn02a9asph7F6OZQqsdTCwmNHz/etBWJ5i1qu5KYAkWv/tgevTZ36dLFtFWLtlXRfNKbbrrJVVG3bl3TcNUZM2a4QFvbqagX+Mcff3Rtkon2LU3upB5PtU37mspIqw9ruxdvn1LtQUpCAAEEEEAAAQQQQAABBBJDIJAez2uuucYGDRrkAq/nnnvO9NNcQm/lWK/hZcuWdduUqCdUW41oXqe2Ixk5cqQrEjr8VAvrvPLKKy5fq64OGTLEBX4KnpRCy77wwgsuuNPQ3tdff93d9571huyGPqOgNzR5dUXOVxmtJqvFkHLmzOm2IunRo4dNmzbNf1zPassU9UoqiOvYsaNbEEgeGoJcoUIFv6xOvHd5x7CbkS5iUybSI+e9fO2110yrDctJe4+qvVqESdvAeD27562AmwgggAACCCCAAAIIIIBAPAQizg11PRuP56J9RENLFdRoGxAFjjElzV3csWOHaaVVBWfnSwcPHjQNOVWAlCNHjvMVdcN2NYxUPY7qKX366adt2LBhLng874MB3dT3a66pFkDSnMyLL744oJqDrUaLPGkxIQ15Vk9o0AFusK2lNgQQQAABBBBAAAEEEEjtAoEGnsmFoS1B1LOphX6UFPxpGxLtqanhpBcKbpOr3bwXAQQQQAABBBBAAAEEEEgPAoHM8UxuqGXLltlLL73k5l6qF1UBp5JWziXoTO6/Du9HAAEEEEAAAQQQQACB9C6QJno8N2/ebLNmzXL7gWoYb+nSpU2ruN5www3p/e/L9yOAAAIIIIAAAggggAACyS6QJgLPZFekAQgggAACCCCAAAIIIIAAAjEKhC/vGmMxbiCAAAIIIIAAAggggAACCCAQPwECz/i58RQCCCCAAAIIIIAAAggggEAsBQJZXEjbiLz55pthr7zvvvvS5cI+2v5l//79VrBgQbf3ZxgKFwgggAACCCCAAAIIIIBAOhQILPCcPn26nTx50v766y87fPiw1axZM10FnkuWLLHevXu7fUy9/44aNWpkAwYM8C45IoAAAggggAACCCCAAALpUiCQwDNbtmy2dOlSB/jGG2/YwIED0xWmVtTVvqFKCjZLlizpAtCtW7e6PP5BAAEEEEAAAQQQQAABBNKzQCCBZ3oG1DDjvn37OgIFoBUrVvQ51ANMQgABBBBAAAEEEEAAAQTSu0CyLC40e/Zs1zOo/Tavv/5669Spk/32229hf4uFCxdas2bNbNmyZdarVy9XrkKFCvbUU0+Z5lGGpjNnztigQYPc8F6VadOmjWnoa6tWrWzOnDmhRd35zp07rXnz5u43ePDgKPfjkrF48WLbvXu3tW7dOizoVB2ZM2eOS1WURQABBBBAAAEEEEAAAQTSpECS93iOHTvWnn/+ebfwjoK/Xbt22YcffugCRQVxuXPndtB79+61lStX2rp169yc0dq1a9uCBQts6tSplidPHuvZs6f/B1GP46hRo9wQVw11XbFihQs6VaBatWp+Oe/kyJEjroyutQhQQtJPP/3kHlf7FOx+8cUXpqHHVapUsRtvvDEhVfMsAggggAACCCCAAAIIIJAmBJI08FTA98orrzi4efPmWYkSJdy58oYPH27vvfeetW/fPgxWQZwCOgWI+/bts6pVq9qkSZP8wHPPnj0u6CxatKhpqKuC0qNHj9qdd95pmzZtCqsrMS70fqURI0a4doa+4/7777c+ffqEZnGOAAIIIIAAAggggAACCKQ7gSQdavvDDz+43suGDRv6QafEH3zwQQfvLVAU+leoW7eu3ytZqFAhK1++vKvj+PHjrtjq1avdUb2nCjqVsmfP7obRuoto/smfP78b3qshvvXq1YumROyzvCHCCo67detma9as8Xtfx40bZ8uXL499ZZREAAEEEEAAAQQQQAABBNKgQJL2eGpYrVLZsmXDKNVbqfTzzz+H5esi8lBZPbtx40bXq5k1a1b75Zdf3DNlypQJe1Yry8aU8uXL569CG1OZ2OZ7Q4PVE9u2bVv3mIbdqo3aSkUB6Q033BDb6iiHAAIIIIAAAggggAACCKQ5gSTt8Txx4oQDjG7RnZw5c9qxY8eiAKv38nzp7Nmz7nZERMT5iiXavQIFCri6b7311rB3KBBVYkuVMBYuEEAAAQQQQAABBBBAIB0KBN7jqV5IpcOHD0fhLFasmMvzej69AlqlVuUrVarkZcX6WLx4cVd2+/btYc9o5dqYkuaarlq1yt0uXLiwXXnllTEVvWB+kSJFXBnNPw1N3hDcXLlyhWZzjgACCCCAAAIIIIAAAgikO4HAezyrV6/uEL/66qsomN4Q25kzZ4b1bn700Ueu7NVXXx3lmQtlVK5c2RWZMGGCG36rC+2tqQWIYkoKSrXVin5a1Cgh6bbbbnOPf/zxx3b69Gm/Kq2sq3TZZZf5eZwggAACCCCAAAIIIIAAAulRIPAez4oVK7qtUgYOHGjbtm2zUqVKuf0ta9WqZRqWqoWE3n33XWvZsqXdd999plVh+/Xr5+y1F2Zck3o8tbDQ+PHjrXHjxqb5ldqGZf369XGtKl7l1eNZv359t1+o3t2iRQv7/PPP3dYvqrBJkybxqpeHEEAAAQQQQAABBBBAAIG0IhB44JkxY0a3qqu2EdGem0oKNhV4Kj377LN25swZ036e3nBXrTI7ZMgQK126tCujf7w5m97Rv/H3SWj+Cy+84IJdBZ+vv/66qddVW7Q888wzliVLlsiP+nVHuRHPjNdee829Z9q0afbiiy+6WrS4kYJvbw5oPKvmMQQQQAABBBBAAAEEEEAg1QtEnFuc53+r8yTxp2ivTfWIagsU9RqGBpLxbYo+RcNdM2XKZFOmTLGnn37ahg0bluAtU2LbHi2OpMWEgvym2L6bcggggAACCCCAAAIIIIBAShVItsAzSBBtXaKezUsvvdRVq4WGOnToYGvXrnXDXr3tWoJ8J3UhgAACCCCAAAIIIIAAAgjETiDwobaxe22wpZYtW2YvvfSSaS9P7aupgFOpc+fORtAZrDW1IYAAAggggAACCCCAAAJxFUgTPZ6bN2+2WbNm2aZNm0xbpWiuqFabveGGG+LqQXkEEEAAAQQQQAABBBBAAIGABdJE4BmwCdUhgAACCCCAAAIIIIAAAggEKBD4Pp4Bto2qEEAAAQQQQAABBBBAAAEE0oAAgWca+CPyCQgggAACCCCAAAIIIIBAShYg8EzJfx3ahgACCCCAAAIIIIAAAv+/vXsP8qn+4zj+XgklhCRid0sMYyRp3BVaIco0lsSEGd3M2BqjmAqNcYminTW2xWRqIl2mmZqG1GSQhtipRDWjVG5ZUTS5xopfr/f8znf2u/td9mvP3nyfn5nv95zzOZ/zOec8zl/v+dwQuAwECDxD/ojHjh3ztTxPnDgRcs1UhwACCCCAAAIIIIAAAghUTQECz5C+2/r16613797Wrl0769Wrl7Vt29aefvrpkGqnGgQQQAABBBBAAAEEEECg6gpcFut4VjS/lnLJyMjwx0hPT7fk5GTbtWuXt3xW9LNxfwQQQAABBBBAAAEEEECgogVYTqWUX+Ds2bPWs2dPO3DggK8lqhbPIOXn59uVV14ZHLJFAAEEEEAAAQQQQAABBBJSINSutrt377annnrK7rzzTktNTfWup6+88oqdPHkyCnflypWmlkGV6dq1q02cONH+/PPPSBkFccOHD7cpU6b4eZX55JNPbNKkSX7NsGHD7MiRI5Hy2tm2bZs98sgj1rFjR+/mOmbMGNuxY0dUmeBg//79NmLECP8tXLgwyL6k7bp16zzoHDt2rHezLVgJQWdBDfYRQAABBBBAAAEEEEAgUQVCa/HMzc01BYRKaWlp3t1Ugd+mTZts7dq1dvPNN/u5ZcuW2dSpU6127do2ePBgy8vLM42PbNiwoSmIq1u3rv3666/Wp0+fSF1r1qzxfZVp2bKlbd682Z599ll7/PHHPX/16tU2btw43+/SpYudO3fO9DxKOtemTRvfD/527txpffv29UM9Q1ZWVnAq7m1OTo7NnTvX3n77bTt9+rRt2bLFatWq5QFwjx494q6PCxBAAAEEEEAAAQQQQACBy00glDGe6m76/PPPu80bb7zhk+sEUAo869ev74dq+ZwzZ47vqwWzefPmvq+8RYsW2Ztvvmnjx48PLrXRo0fb9OnTvaXzvffeM7VOdu7c2YPY7du3eznNHquWUaVVq1Z5a6f2dV+1as6YMcNWrFihrDJJv//+u9e7ePFiD6AL3mTkyJE2a9asglnsI4AAAggggAACCCCAAAIJJxBKV1u1IOqnlk7N6FowdevWLRJ4/vjjj6ZAcciQIZGgU2UVYCpt2LDBt8FfkyZNfPeGG27wrY6rVavmralHjx71PLUwHj582Dp06GD//vuvd7lVt1u1qKq8AtB//vknqNK3ajlV9179BgwYEHUu3oOgi7BabRV8b9261V577TV/xrfeess2btwYb5WURwABBBBAAAEEEEAAAQQuK4FQWjw1tlPptttu821xf+pWq9SiRYuoIkGA+csvv0Tlq8uqUo0aNXxbs2bNyPb48eO+H9xbAd/999/veYX/1Cqp8aRBatCgQWQW2iDvUrfqGqzUqVMne/TRR31fAbi6Gc+bN89bQbt37+75/CGAAAIIIIAAAggggAACiSgQSuAZtCgGAWJxkGfOnPFTsSbdUQtlUE9wvVo3lZKSkoIs315xxRWRY42rVJowYYL169cvkl9w58Ybbyx4GOr+dddd5/UVbulVIKoUBMZ+wB8CCCCAAAIIIIAAAgggkIACoQSeQWti4RbLwp5Nmzb1rKDlMzh/7Ngx74Lbvn37IKvE25SUFC+rYLZ169Yluk5jTYPJhxo3blxk8qESVfL/QkE34EOHDkVdFnTBrVOnTlQ+BwgggAACCCCAAAIIIIBAogmEMsazVatWPqby3XfftX379kUZatmTU6dOeV7Qxfajjz6Kat38+OOP/fytt94adW1JDjS2U0mz5RZuMVX+wYMHtYlKWk5Fy63op0mNSpPuvvtuv/zTTz/1MaZBXRpbqnTLLbcEWWwRQAABBBBAAAEEEEAAgYQUCCXwVDfZadOmOWD//v19ch3NMPvqq69az549fZ1LnVS3VE0kpMmARo0aZR988IFpOZLJkyf7tVoLM96k8aHqZqu1PzVRkGawVSC7ZMkSGzRokC+7Em+d8ZRXi+fAgQP9/hrbuXTpUl9PdPny5V5NsMRMPHVSFgEEEEAAAQQQQAABBBC4nARC6WorkAcffNBbPV944QWbOXNmxOiOO+6wa6+9NnKs9Te1zqZaKIPurpplNjs7OzIBUDC2M7goGONZML/gOM+MjAwPamfPnm3PPfdccJmvDTp06NDIcbAT1Bccl3Y7f/58nwBJgbSWb1FKTk62zMxMf67S1s/1CCCAAAIIIIAAAggggEBVFkg6/18K+wXUvVVjHBs1amTXX399zOrV/XbPnj1Wr149U6thGMGgXkUz2Kp7r4JZjd8Mo96YLxAjU119NZlQmO8U4zZkIYAAAggggAACCCCAAAJVSqBMAs8qJcDDIoAAAggggAACCCCAAAIIlKlAKGM8y/QJqRwBBBBAAAEEEEAAAQQQQKBKCxB4VunPx8MjgAACCCCAAAIIIIAAApVfgMCz8n8jnhABBBBAAAEEEEAAAQQQqNICBJ5V+vPx8AgggAACCCCAAAIIIIBA5Rcg8Kz834gnRAABBBBAAAEEEEAAAQSqtACBZ5X+fDw8AggggAACCCCAAAIIIFD5BaqH8Yhnz561BQsWRFX10EMPWZMmTaLyCh/s2LHDcnNzrU+fPtasWbPCp8vkeMWKFb7WZ1B5jx49rFOnTsEhWwQQQAABBBBAAAEEEEAAgZAFQgs8P/zwQ8vPz7ejR4/aiRMnrHfv3hcNPL/66iubNm2aB53FBZ4KTjds2GD33HOPpaamXvD1ly1bZldddZWlp6cXW27jxo32zTff2JkzZ+zw4cNWu3btShd4/v3339a+ffuY75CRkWETJ06MeY5MBBBAAAEEEEAAAQQQQKAyCoQSeNaqVcuDQ71gVlaWZWZmluhdmzZtamlpadawYcNiy3/77bc2e/ZsS0lJuWjgOWfOHFOdFwo8s7Oz/V6bN2+24cOHF3vfijxx/vx5v71cunbtGvUoN910U9QxBwgggAACCCCAAAIIIIBAZRcIJfC81JdUF1v9SLEFFHQuXLgw9klyEUAAAQQQQAABBBBAAIEqIlAhgae6iqqba5AmTJhQpGvpww8/7F138/LyvJhaM19//XXfr1+/vuXk5Pj+qlWrTF1sldTFd+fOnVEtmU888YT16tXLz8f7d+jQIZs3b56pdXTv3r3WoUMHe+yxx2zAgAFFqtq/f78988wznt+tWzcbP358kTJkIIAAAggggAACCCCAAAKJKFAhgec111zjYywVJGoM56hRo4rYN2/e3DRp0alTpzzoa9SokSUnJ3u5OnXqRMqrriBfAaLGbAbHKnT11VdHysazs3v3bhs4cKAHs+reqmBz9erVNm7cOO/6O2LEiKjqTp48aZs2bfI8PWsY6YcffrAZM2ZY9erVrUWLFtavXz+rV69eGFVTBwIIIIAAAggggAACCCBQbgIVEnhOnz7dX3D58uU2ZcqUmC+rcZ1K77zzjm3bts3Gjh3rgVfhwnfddZfpp6TWT43xfOmllwoXi/t45syZHnRqO3LkSEtKSrI//vjDW09nzZpl9913nxUMgOO+QQku2LVrly1dujRScu7cubZkyRLr2LFjJI8dBBBAAAEEEEAAAQQQQKCyC1RI4FnZUTQz75o1a/wx27Zta999950FE/6o264CXLVGdunSJfIqmggomG22ZcuWkfxL2alZs6ZNnjzZ+vbt6xMvbdmyxd5//31/JnXhXbt2rc/eeyl1cw0CCCCAAAIIIIAAAgggUN4CBJ4xxPfs2RPJfeCBByL7BXd+++23gofWoEED01InYSQtCaMuvUHq37+/L09z++2324EDB3w5mO7duwen2SKAAAIIIIAAAggggAAClVqAwDPG59Ean0qacXfSpEkxSthF1yiNeVEpMtUKqiBY3ZPVBZfAsxSYXIoAAggggAACCCCAAALlKhB64KkASUkzzIaZNNFQSVJJy13oOTWxkVJ+fr61bt26JLc1TS6Um5vrZRs3bmxt2rQp0XXxFApaWevWrRvPZZRFAAEEEEAAAQQQQAABBCpUoFrYdw/GPX799dehVK0urErbt2+/aH2aWEitgX/99ddFy2rsppJmwi2cNCutZrL94osv7Keffip82g4ePFgkT8upjBkzxn+LFi0qcj6eDNV/7ty5qEsUdK5fv97zWrVqFXWOAwQQQAABBBBAAAEEEECgMguE3uLZrl07X9IkMzPTNFYyJSXFlKduq0qaoVZLqCgFQd+6det8xljlaRxjwcl5ggBx8eLFvvan6tISKUOHDlXxqNS5c2dfx1NrgAZLjygQjhWo1ahRwwYNGmQrV660YcOGeddVrQ+qpV00g61mrtWSKereqgl9UlNT/f6ff/65ffbZZ7b7v+VWyiotWLDAg957773XFAR/+eWXkcmO0tPTS9wKW1bPR70IIIAAAggggAACCCCAQDwCSf/N1no+ngtKUlaBkgK377//3ouPHj3agiVUtCRITk5OsdVoGZXCa2Rqhtns7GzbunWrX6cZZGO1qB45csTLaQmWoKvvyy+/HDNIVUX79u2zqVOnRloS1cqpIDhICow1xnPv3r1Blm+HDBli8+fPj8r7+eefLS0tzfMGDx5sWVlZUefjOVCQ/eKLLxa55Mknn/RJhzT5EAkBBBBAAAEEEEAAAQQQqCoCZRJ4VpWXL+lzqutuXl6er9up7rzVq4feUFzkUU6fPm3qvnv8+HHTmM5mzZqVy32LPAgZCCCAAAIIIIAAAggggEApBQg8SwnI5QgggAACCCCAAAIIIIAAAhcWCH1yoQvfjrMIIIAAAggggAACCCCAAAKJJkDgmWhfnPdFAAEEEEAAAQQQQAABBMpZgMCznMG5HQIIIIAAAggggAACCCCQaAIEnon2xXlfBBBAAAEEEEAAAQQQQKCcBQg8yxmc2yGAAAIIIIAAAggggAACiSZA4JloX5z3RQABBBBAAAEEEEAAAQTKWYDAs5zBuR0CCCCAAAIIIIAAAgggkGgCBJ6J9sV5XwQQQAABBBBAAAEEEECgnAUIPMsZnNshgAACCCCAAAIIIIAAAokmQOCZaF+c90UAAQQQQAABBBBAAAEEylmAwLOcwbkdAggggAACCCCAAAIIIJBoAv8DhHymsI8bXBkAAAAASUVORK5CYII=)"
      ],
      "metadata": {
        "id": "vFd0Nhr912Ho"
      }
    },
    {
      "cell_type": "code",
      "source": [
        "def print_top_words(word_frequencies, num_words=15):\n",
        "\n",
        "    top_words = get_top_words(word_frequencies, num_words)  # Get top words\n",
        "\n",
        "    print(f\"Top {num_words} Meaningful Words:\")\n",
        "    for word, frequency in top_words:\n",
        "        print(f\"{word}: {frequency}\")"
      ],
      "metadata": {
        "id": "f7gohRIpTBnE"
      },
      "execution_count": null,
      "outputs": []
    },
    {
      "cell_type": "markdown",
      "source": [
        "### Part 2: Text Analysis of your choice with pre-processing"
      ],
      "metadata": {
        "id": "bPuR0wPr1-p3"
      }
    },
    {
      "cell_type": "markdown",
      "source": [
        "For the second part of the project, you will:\n",
        "\n",
        "* Choose another text that interests you (a novel, article, speech, etc.) (You should make another copy of this colab file and change the name to CS110_Project6_Part2.ipynb)\n",
        "* Produce 10 to 15 most frequrently used words without text preprocessing\n",
        "* Apply the same pre-processing steps using SpaCy\n",
        "* Identify the 15 most frequently used meaningful words\n",
        "* Write a 1-2 paragraph analysis of what these words reveal about the text's content and themes, and why we need text pre-processing now that you have worked on at least two sets of text"
      ],
      "metadata": {
        "id": "tm0RrSaFE7sE"
      }
    },
    {
      "cell_type": "code",
      "source": [
        "def fetch_text(raw_url):\n",
        "  import requests\n",
        "  from pathlib import Path\n",
        "  import hashlib\n",
        "\n",
        "  CACHE_DIR = Path(\"cs_110_content/text_cache\")\n",
        "  CACHE_DIR.mkdir(parents=True, exist_ok=True)\n",
        "\n",
        "  def _url_to_filename(url):\n",
        "    url_hash = hashlib.sha1(url.encode(\"utf-8\")).hexdigest()[:12]\n",
        "    return CACHE_DIR / f\"{url_hash}.txt\"\n",
        "\n",
        "  cache_path = _url_to_filename(raw_url)\n",
        "\n",
        "  SUCCESS_MSG = \"✅ Text fetched.\"\n",
        "  FAILURE_MSG = \"❌ Failed to fetch text.\"\n",
        "  try:\n",
        "    if not cache_path.exists():\n",
        "      response = requests.get(raw_url, timeout=10)\n",
        "      response.raise_for_status()\n",
        "      text_data = response.text\n",
        "      cache_path.write_text(text_data, encoding=\"utf-8\")\n",
        "    print(SUCCESS_MSG)\n",
        "    return cache_path.read_text(encoding=\"utf-8\")\n",
        "\n",
        "  except Exception as e:\n",
        "    print(FAILURE_MSG)\n",
        "    print(f\"Error: {e}\")\n",
        "    return \"\""
      ],
      "metadata": {
        "id": "lXb4loQ4VBln"
      },
      "execution_count": null,
      "outputs": []
    },
    {
      "cell_type": "code",
      "source": [
        "import requests\n",
        "\n",
        "def fetch_text(url):\n",
        "\n",
        "  try:\n",
        "    response = requests.get(url)\n",
        "    response.raise_for_status()  # Raise an exception for bad status codes\n",
        "    return response.text\n",
        "  except requests.exceptions.RequestException as e:\n",
        "    print(f\"Error fetching text from {url}: {e}\")\n",
        "    return None\n",
        "\n",
        "alice_in_wonderland_url = \"https://www.gutenberg.org/cache/epub/11/pg11.txt\"\n",
        "alice_in_wonderland_text = fetch_text(alice_in_wonderland_url)"
      ],
      "metadata": {
        "id": "YgNCmMuFVxN0"
      },
      "execution_count": null,
      "outputs": []
    },
    {
      "cell_type": "code",
      "source": [
        "import requests\n",
        "import operator\n",
        "\n",
        "def fetch_text(url):\n",
        "\n",
        "    try:\n",
        "        response = requests.get(url)\n",
        "        response.raise_for_status()\n",
        "        return response.text\n",
        "    except requests.exceptions.RequestException as e:\n",
        "        print(f\"Error fetching text from {url}: {e}\")\n",
        "        return None\n",
        "\n",
        "def get_word_counts(text):\n",
        "\n",
        "    word_counts = {}\n",
        "    words = text.lower().split()  # Convert to lowercase and split into words\n",
        "    for word in words:\n",
        "        word_counts[word] = word_counts.get(word, 0) + 1\n",
        "    return word_counts\n",
        "\n",
        "def print_top_words(word_counts, num_words=15):  # Default to 15 words\n",
        "\n",
        "    sorted_word_counts = dict(sorted(word_counts.items(), key=operator.itemgetter(1), reverse=True))\n",
        "    top_words = list(sorted_word_counts.items())[:num_words]\n",
        "    for word, count in top_words:\n",
        "        print(f\"{word}: {count}\")\n",
        "\n",
        "# Fetch the text from the URL\n",
        "alice_in_wonderland_url = \"https://www.gutenberg.org/cache/epub/11/pg11.txt\"\n",
        "alice_in_wonderland_text = fetch_text(alice_in_wonderland_url)\n",
        "\n",
        "# Check if the text was fetched successfully\n",
        "if alice_in_wonderland_text:\n",
        "    word_counts = get_word_counts(alice_in_wonderland_text)\n",
        "    print_top_words(word_counts)  # Print top 15 words by default\n",
        "else:\n",
        "    print(\"Failed to fetch text.\")"
      ],
      "metadata": {
        "id": "f--rxu6aXXcL"
      },
      "execution_count": null,
      "outputs": []
    },
    {
      "cell_type": "code",
      "source": [
        "import requests\n",
        "import operator\n",
        "import spacy\n",
        "\n",
        "# Load the SpaCy English language model\n",
        "nlp = spacy.load(\"en_core_web_sm\")\n",
        "\n",
        "def fetch_text(url):\n",
        "    \"\"\"\n",
        "    Fetches text from a URL and returns it as a string.\n",
        "    \"\"\"\n",
        "    try:\n",
        "        response = requests.get(url)\n",
        "        response.raise_for_status()\n",
        "        return response.text\n",
        "    except requests.exceptions.RequestException as e:\n",
        "        print(f\"Error fetching text from {url}: {e}\")\n",
        "        return None\n",
        "\n",
        "def preprocess_text(text):\n",
        "    \"\"\"\n",
        "    Preprocesses the text using SpaCy.\n",
        "    \"\"\"\n",
        "    doc = nlp(text.lower())  # Convert to lowercase and process with SpaCy\n",
        "    words = [\n",
        "        token.lemma_  # Get the word's base form (lemma)\n",
        "        for token in doc\n",
        "        if not token.is_stop  # Exclude stop words\n",
        "        and not token.is_punct  # Exclude punctuation\n",
        "        and not token.like_num  # Exclude numbers\n",
        "        and len(token) > 2  # Exclude short words\n",
        "    ]\n",
        "    return words\n",
        "\n",
        "def get_word_counts(words):\n",
        "    \"\"\"\n",
        "    Counts the frequency of each word in a list of words.\n",
        "    \"\"\"\n",
        "    word_counts = {}\n",
        "    for word in words:\n",
        "        word_counts[word] = word_counts.get(word, 0) + 1\n",
        "    return word_counts\n",
        "\n",
        "def print_top_words(word_counts, num_words=15):  # Default to 15 words\n",
        "    \"\"\"\n",
        "    Prints the top N most frequent words.\n",
        "    \"\"\"\n",
        "    sorted_word_counts = dict(sorted(word_counts.items(), key=operator.itemgetter(1), reverse=True))\n",
        "    top_words = list(sorted_word_counts.items())[:num_words]\n",
        "    for word, count in top_words:\n",
        "        print(f\"{word}: {count}\")\n",
        "\n",
        "# Fetch the text from the URL\n",
        "alice_in_wonderland_url = \"https://www.gutenberg.org/cache/epub/11/pg11.txt\"\n",
        "alice_in_wonderland_text = fetch_text(alice_in_wonderland_url)\n",
        "\n",
        "# Check if the text was fetched successfully\n",
        "if alice_in_wonderland_text:\n",
        "    words = preprocess_text(alice_in_wonderland_text)\n",
        "    word_counts = get_word_counts(words)\n",
        "    print_top_words(word_counts)\n",
        "else:\n",
        "    print(\"Failed to fetch text.\")"
      ],
      "metadata": {
        "id": "L-NMJMreXcRY"
      },
      "execution_count": null,
      "outputs": []
    },
    {
      "cell_type": "code",
      "source": [
        "import requests\n",
        "import operator\n",
        "import spacy\n",
        "\n",
        "# Load the SpaCy English language model\n",
        "nlp = spacy.load(\"en_core_web_sm\")\n",
        "\n",
        "# ... (fetch_text, preprocess_text functions remain the same)\n",
        "\n",
        "def get_word_counts(words):\n",
        "    \"\"\"\n",
        "    Counts the frequency of each word in a list of words, excluding \"project\" and \"gutenberg\".\n",
        "    \"\"\"\n",
        "    word_counts = {}\n",
        "    for word in words:\n",
        "        if word not in [\"project\", \"gutenberg\"]:  # Omit these words\n",
        "            word_counts[word] = word_counts.get(word, 0) + 1\n",
        "    return word_counts\n",
        "\n",
        "# ... (print_top_words function remains the same)\n",
        "\n",
        "# Fetch the text from the URL\n",
        "alice_in_wonderland_url = \"https://www.gutenberg.org/cache/epub/11/pg11.txt\"\n",
        "alice_in_wonderland_text = fetch_text(alice_in_wonderland_url)\n",
        "\n",
        "# Check if the text was fetched successfully\n",
        "if alice_in_wonderland_text:\n",
        "    words = preprocess_text(alice_in_wonderland_text)\n",
        "    word_counts = get_word_counts(words)  # Use the modified get_word_counts\n",
        "    print_top_words(word_counts, num_words=15)\n",
        "else:\n",
        "    print(\"Failed to fetch text.\")"
      ],
      "metadata": {
        "id": "JNgciGRzX-Ln"
      },
      "execution_count": null,
      "outputs": []
    },
    {
      "cell_type": "markdown",
      "source": [
        "Write a 1-2 paragraph analysis of what these words reveal about the text's content and themes, and why we need text pre-processing now that you have worked on at least two sets of text:\n",
        "\n"
      ],
      "metadata": {
        "id": "zsjNcikvYW08"
      }
    },
    {
      "cell_type": "markdown",
      "source": [
        "Write a 1-2 paragraph analysis of what these words reveal about the text's content and themes, and why we need text pre-processing now that you have worked on at least two sets of text:\n",
        "\n",
        "Text analysis specific to the example of my own text of Alice's Adventures in Wonderland needed refinement from the inital function which was asking for the most frequent words from the text. The secondary code gathered the top 15 words that were the most prevalent in the book, which included project and guttenburg, in which were listed and not even in then book! It was funny to see that the computer's logic did exactly what I told it to do, though it required an additional step. To find out the most important words to convey the context of the story was written by ommitting the words such as project and guttenburg, the sponser of the link for the free texts to allow queen and alice to appear.\n",
        "\n",
        "In conclusion; the further the analysis or specified funcitons that we program into the function through text will reveal it's content and themes which is important for text pre-processing, especially working with multiple text-sets. If I was to sit there with the book it would take me forever to gather the top 15 words, but here we code for the computer to find the keywords, text and descriptive language."
      ],
      "metadata": {
        "id": "pmVuADL2Yk3n"
      }
    }
  ]
}